{
  "cells": [
    {
      "cell_type": "markdown",
      "metadata": {
        "id": "mAvXR9FvE4zh"
      },
      "source": [
        "# Errores y Precisión numérica"
      ]
    },
    {
      "cell_type": "markdown",
      "metadata": {
        "id": "RoFT763dE4zi"
      },
      "source": [
        "## Definiciones y estándares con respecto a los errores y precisión numérica\n",
        "\n",
        "Para medir los errores numéricos usamos la nomenclatura de los errores experimentales. Por ejemplo, usamos la notación de dar el valor resultante $\\pm$ el error.\n"
      ]
    },
    {
      "cell_type": "code",
      "execution_count": null,
      "metadata": {
        "id": "SicxidkFE4zj",
        "colab": {
          "base_uri": "https://localhost:8080/"
        },
        "outputId": "4229782d-d1de-4e30-8bdb-966ffe6fde12"
      },
      "outputs": [
        {
          "output_type": "stream",
          "name": "stdout",
          "text": [
            "El promedio resultante es: \n",
            " 1.7969454382065317 +- 1.9996225301648465\n"
          ]
        }
      ],
      "source": [
        "from random import * #importar la librería de pseudoaleatorios\n",
        "l = []\n",
        "for i in range(1000):\n",
        "    x = uniform(0.8, 2.8) # valores aleatorios float en el intervalo dado\n",
        "    l.append(x)\n",
        "\n",
        "n = len(l)\n",
        "suma = 0\n",
        "for i in range(n):\n",
        "#    suma=suma + l[i]\n",
        "    suma += l[i]\n",
        "promedio = suma/n\n",
        "\n",
        "error = max(l) - min(l)\n",
        "print('El promedio resultante es: \\n', promedio, '+-', error)"
      ]
    },
    {
      "cell_type": "markdown",
      "metadata": {
        "id": "AUB_Ip-vE4zl"
      },
      "source": [
        "### Error absoluto, error relativo y error porcentual\n",
        "\n",
        "Usamos $X_{teo}$ para el valor teórico o verdadero de alguna variable y $X_{aprox}$ para el valor aproximado o numérico.\n",
        "\n",
        "El error absoluto está definido por:\n",
        "\n",
        "$$e_{abs}(X_{aprox})=|X_{teo}-X_{aprox}|$$\n",
        "\n",
        "El error relativo es:\n",
        "$$e_{rel}(X_{aprox})=\\frac{|X_{teo}-X_{aprox}|}{X_{teo}}$$\n",
        "\n",
        "El error porcentual es:\n",
        "$$e_{por}(X_{aprox})=e_{rel}(X_{aprox})(100\\%)$$\n",
        "\n",
        "### Ejemplo:\n",
        "Sea $X_{teo}=e$ y $X_{aprox}=\\tfrac{19}{7}$\n",
        "\n",
        "$$e_{abs}(X_{aprox})=|e - \\frac{19}{7}| \\approx 0.003996$$\n",
        "\n",
        "El error relativo es:\n",
        "$$e_{rel}(X_{aprox})=\\frac{|e - \\frac{19}{7}|}{e} \\approx 0.00147$$\n",
        "\n",
        "El error porcentual es:\n",
        "$$e_{por}(X_{aprox})=(0.00147)(100\\%)=1.47\\%$$\n"
      ]
    },
    {
      "cell_type": "code",
      "execution_count": null,
      "metadata": {
        "id": "kJvj6C8yE4zl",
        "colab": {
          "base_uri": "https://localhost:8080/"
        },
        "outputId": "2dcd1477-6b03-4128-b3fe-f564ae558b05"
      },
      "outputs": [
        {
          "output_type": "stream",
          "name": "stdout",
          "text": [
            "El error absoluto es : 0.0040\n",
            "El error relativo es : 0.0015\n",
            "El error porcentual es : 0.147009\n"
          ]
        }
      ],
      "source": [
        "from math import *\n",
        "def error_abs(real,approx):\n",
        "    return abs(real-approx) #valor absoluto\n",
        "def error_rel(real,approx):\n",
        "    return (abs(real-approx))/real\n",
        "def error_por(real,approx):\n",
        "    return ((abs(real-approx))/real)*100\n",
        "\n",
        "x_teo=e\n",
        "x_aprox=19/7\n",
        "#x_teo=float(input('Da el valor teorico'))\n",
        "#x_aprox=float(input('Da el valor numerico'))\n",
        "\n",
        "e_abs=error_abs(x_teo,x_aprox)\n",
        "e_rel=error_rel(x_teo,x_aprox)\n",
        "e_por=error_por(x_teo,x_aprox)\n",
        "\n",
        "print('El error absoluto es : %5.4f' %e_abs)\n",
        "print('El error relativo es : %5.4f' %e_rel)\n",
        "print('El error porcentual es : %7.6f' %e_por)"
      ]
    },
    {
      "cell_type": "markdown",
      "metadata": {
        "id": "n7w5wvNGE4zn"
      },
      "source": [
        "## Digitos significativos\n",
        "\n",
        "### Definición:\n",
        "Decimos que $X_{aprox}$ tiene $m$ digitos significativos cuando el error de $X_A$ cumple con $err(X_{aprox})\\leq tol$ en el digito (m+1) distintos de cero.\n",
        "\n",
        "### Ejemplo\n",
        "$$e_{abs}(X_{aprox})=\\left|e-\\frac{19}{7}\\right|\\approx 0.00\\mathbf{3}996$$\n",
        "se tiene 3 digitos significativos"
      ]
    },
    {
      "cell_type": "markdown",
      "metadata": {
        "id": "YVsLrdB2E4zn"
      },
      "source": [
        "## Tipos de errores\n",
        "1. Errores numéricos derivados de la aproximación del método numérico $tol$\n",
        "2. Errores numéricos de la aritmética discreta de la computadora $X_{aprox}$.\n",
        "3. Errores en el planteamiento del modelo (¡Vacas esféricas, cuidado!)"
      ]
    },
    {
      "cell_type": "markdown",
      "metadata": {
        "id": "2nuS7CK9E4zn"
      },
      "source": [
        "## 1. Errores numéricos de la aproximación\n",
        "\n",
        "Aquí consideramos los términos que despreciamos de las aproximaciones numéricos.\n",
        "\n",
        "Serie de Taylor\n",
        "$$e^x \\approx 1 + x + \\frac{1}{2} x^2$$\n",
        "\n",
        "Diferenciación\n",
        "$$ f'(x) \\approx \\frac{f(x + h) - f(x - h)}{2h}$$\n",
        "\n",
        "Integración numérica\n",
        "$$ \\int_0^1 f(x) dx \\approx \\frac{1}{n} \\sum_{j=1}^n f(\\frac{j}{n})$$\n",
        "\n"
      ]
    },
    {
      "cell_type": "markdown",
      "metadata": {
        "id": "rIfsf-GcE4zo"
      },
      "source": [
        "## 2. Errores numéricos de la aritmética discreta\n",
        "\n",
        "Hay que considerar que la computadora tiene limitaciones. Las computadoras no pueden guardar números con decimales infinitos, por lo que no se puede manipular elementos continuos, sino que toda la matemáticas que se hagan con la computadora serán discretas. Tampoco números muy grandes o muy chicos."
      ]
    },
    {
      "cell_type": "code",
      "source": [
        "x=1.1+2.2\n",
        "print(x)\n",
        "print(x==3.30000000000000)"
      ],
      "metadata": {
        "colab": {
          "base_uri": "https://localhost:8080/"
        },
        "id": "EIC0U9KU3uNU",
        "outputId": "1627de3a-bede-4b23-ec82-e59146fd9cd8"
      },
      "execution_count": null,
      "outputs": [
        {
          "output_type": "stream",
          "name": "stdout",
          "text": [
            "3.3000000000000003\n",
            "False\n"
          ]
        }
      ]
    },
    {
      "cell_type": "code",
      "execution_count": null,
      "metadata": {
        "colab": {
          "base_uri": "https://localhost:8080/"
        },
        "id": "tgnBCbarE4zp",
        "outputId": "34fb8170-cc3a-41f4-f02c-22356007d831"
      },
      "outputs": [
        {
          "output_type": "stream",
          "name": "stdout",
          "text": [
            "x distinto a 3.3\n",
            "3.3000000000000003\n"
          ]
        }
      ],
      "source": [
        "x=1.1+2.2\n",
        "if x==3.3:\n",
        "    print(x)\n",
        "else:\n",
        "    print('x distinto a 3.3')\n",
        "#¿Por qué no se imprimió x terminando el \"if\"? Ocurre que por error de redonde\n",
        "#1.1+2.2 no es exactamente 3.3, sino que es 3.300000000000003. Por lo cual no\n",
        "#se cumple la condición del if. Esto es bastante común en física computacional,\n",
        "#por lo que la mejor manera de tratar esto, es introducir un valor\n",
        "#epsilón en el código.\n",
        "print(x)"
      ]
    },
    {
      "cell_type": "code",
      "execution_count": null,
      "metadata": {
        "colab": {
          "base_uri": "https://localhost:8080/"
        },
        "id": "T7Y0-xd9E4zq",
        "outputId": "a341ccda-0d10-4e90-fef6-13fcb3c18f6f"
      },
      "outputs": [
        {
          "output_type": "stream",
          "name": "stdout",
          "text": [
            "3.3000000000000003\n"
          ]
        }
      ],
      "source": [
        "x=1.1+2.2\n",
        "epsilon=1e-12 #toleracion\n",
        "if abs(x-3.3)<epsilon:\n",
        "    print(x)"
      ]
    },
    {
      "cell_type": "markdown",
      "metadata": {
        "id": "Jp5VdnrdE4zq"
      },
      "source": [
        "En Python, el nivel de precisión estandar es de 16 cifras significativas. Esto significa que los números irracionales serán truncados:\n",
        "\n",
        "Valor verdadero de Pi: 3.1415956535897932384626...\n",
        "\n",
        "Valor en Python de Pi: 3.141595653589793\n",
        "\n",
        "Diferencias:           0.0000000000000002384626\n",
        "\n",
        "A este error se le llama error de redondeo."
      ]
    },
    {
      "cell_type": "markdown",
      "metadata": {
        "id": "2Q_Nmz4UE4zr"
      },
      "source": [
        "Entonces, el error numérico de un número, que se denotará $\\epsilon$ (epsilon), se define como la cantidad calculada por la computadora menos el valor real (el error absoluto).\n",
        "\n",
        "En general, si $X_{aprox}$ es una aproximación a cierto número de cifras significativas, digamos 16, entonces el error de redondeo tiene un valor típico de $\\frac{X_{aprox}}{10^{16}}$. Usualmente es una buena aproximación considerar el error como una cantidad uniformemente distribuida de un número con la desviación estandar $\\sigma=CX_{aprox}$, donde $C\\approx 10^{-16}$. Nos referimos a $C$ como una constante de error.\n",
        "\n",
        "Comúnmente nos referimos a $\\epsilon$ como la desviación estandar ya que sí dieramos un valor exacto de $\\epsilon$ sería muy fácil obtener el valor real de x."
      ]
    },
    {
      "cell_type": "markdown",
      "metadata": {
        "id": "IDAMA5PGE4zr"
      },
      "source": [
        "Veamos con más cuidado esto de los errores y la precisión de los cálculos:\n",
        "\n",
        "Sean:\n",
        "\\begin{eqnarray*}\n",
        "        x&=&1000000000000000.0000000000000\\\\\n",
        "        y&=&1000000000000001.234567890123478\n",
        "\\end{eqnarray*}\n",
        "Recordando que la computadora sólo guarda 16 cifras significativas, y será truncada. La diferencia entre y-x=1.2, cuando en realidad es 1.234567890123478, lo cual el error porcentual es del 0.23%. Sin embargo, al agregar una cifra decimal a x y y, el error porcentual se incrementa considerablemente.\n",
        "\n",
        "Veamos en código como se comporta todo."
      ]
    },
    {
      "cell_type": "code",
      "execution_count": null,
      "metadata": {
        "colab": {
          "base_uri": "https://localhost:8080/"
        },
        "id": "zAyHtG48E4zr",
        "outputId": "7039d7a7-f685-4e8b-831b-7fb95a4b72f0"
      },
      "outputs": [
        {
          "output_type": "stream",
          "name": "stdout",
          "text": [
            "1.25\n",
            "1.2500009112482682 %\n"
          ]
        }
      ],
      "source": [
        "x = 1000000000000000\n",
        "y = 1000000000000001.234567890123478\n",
        "a = y - x\n",
        "error_real = 1.234567890123478\n",
        "print(a)\n",
        "#error = (abs(a)/(error_real))*100\n",
        "error = (abs(a-error_real)/(error_real))*100\n",
        "print(error, '%')"
      ]
    },
    {
      "cell_type": "markdown",
      "source": [
        "Una manera de aumentar las cifras decimales asignadas a un flotante y disminuir el error por redondeo es usar el módulo decimal."
      ],
      "metadata": {
        "id": "N5d_wrm-eb6s"
      }
    },
    {
      "cell_type": "code",
      "execution_count": null,
      "metadata": {
        "scrolled": false,
        "colab": {
          "base_uri": "https://localhost:8080/"
        },
        "id": "elb0YbwqE4zr",
        "outputId": "222b30bf-d040-4e6c-e3f7-bb556e396bf4"
      },
      "outputs": [
        {
          "output_type": "stream",
          "name": "stdout",
          "text": [
            "0.14285714285714285\n",
            "3.141592653589793\n",
            "0.142857\n",
            "0.14285714285714285\n",
            "3.141592653589793115997963468544185161590576171875\n",
            "0.142857142857142857142857142857142857142857142857142857142857\n",
            "0.142857142857142849212692681248881854116916656494140625\n",
            "1.41421356237309504880168872420969807856967187537694807317668\n"
          ]
        }
      ],
      "source": [
        "#Primero, veremos el paquete decimal\n",
        "from decimal import getcontext,Decimal\n",
        "from math import sqrt,exp,pi\n",
        "\n",
        "print(1/7)\n",
        "print(pi)\n",
        "getcontext().prec = 6\n",
        "print(Decimal(1) / Decimal(7))\n",
        "getcontext().prec = 60\n",
        "print(1/7)\n",
        "print(Decimal(pi))\n",
        "print(Decimal(1) / Decimal(7))\n",
        "print(Decimal(1/7))\n",
        "print(getcontext().sqrt(Decimal(2)))\n",
        "#print(getcontext().sqrt(Decimal(2)))"
      ]
    },
    {
      "cell_type": "markdown",
      "metadata": {
        "id": "U61bLQYtE4zs"
      },
      "source": [
        "### Ejemplo\n",
        "\n",
        "Evaluamos\n",
        "$$f(x) = x(\\sqrt{x + 1} - \\sqrt{x})$$\n",
        "con una calculadora de 6 digitos de precisión."
      ]
    },
    {
      "cell_type": "code",
      "execution_count": null,
      "metadata": {
        "colab": {
          "base_uri": "https://localhost:8080/",
          "height": 363
        },
        "id": "OMs6BhzmE4zs",
        "outputId": "bdf3ee0c-d85c-4859-c3ec-d28499358a12"
      },
      "outputs": [
        {
          "output_type": "execute_result",
          "data": {
            "text/plain": [
              "              Aprox          Real\n",
              "1           0.41421      0.414214\n",
              "10          1.54340      1.543471\n",
              "100          4.9900      4.987562\n",
              "1000        15.8000     15.807437\n",
              "10000        50.000     49.998750\n",
              "100000      100.000    158.113488\n",
              "1000000           0    499.999875\n",
              "10000000       0.00   1581.138790\n",
              "100000000         0   5000.000056\n",
              "1000000000      0.0  15811.390767"
            ],
            "text/html": [
              "\n",
              "  <div id=\"df-087f4d03-5ff1-431f-99a3-4ebb5bf9d24c\" class=\"colab-df-container\">\n",
              "    <div>\n",
              "<style scoped>\n",
              "    .dataframe tbody tr th:only-of-type {\n",
              "        vertical-align: middle;\n",
              "    }\n",
              "\n",
              "    .dataframe tbody tr th {\n",
              "        vertical-align: top;\n",
              "    }\n",
              "\n",
              "    .dataframe thead th {\n",
              "        text-align: right;\n",
              "    }\n",
              "</style>\n",
              "<table border=\"1\" class=\"dataframe\">\n",
              "  <thead>\n",
              "    <tr style=\"text-align: right;\">\n",
              "      <th></th>\n",
              "      <th>Aprox</th>\n",
              "      <th>Real</th>\n",
              "    </tr>\n",
              "  </thead>\n",
              "  <tbody>\n",
              "    <tr>\n",
              "      <th>1</th>\n",
              "      <td>0.41421</td>\n",
              "      <td>0.414214</td>\n",
              "    </tr>\n",
              "    <tr>\n",
              "      <th>10</th>\n",
              "      <td>1.54340</td>\n",
              "      <td>1.543471</td>\n",
              "    </tr>\n",
              "    <tr>\n",
              "      <th>100</th>\n",
              "      <td>4.9900</td>\n",
              "      <td>4.987562</td>\n",
              "    </tr>\n",
              "    <tr>\n",
              "      <th>1000</th>\n",
              "      <td>15.8000</td>\n",
              "      <td>15.807437</td>\n",
              "    </tr>\n",
              "    <tr>\n",
              "      <th>10000</th>\n",
              "      <td>50.000</td>\n",
              "      <td>49.998750</td>\n",
              "    </tr>\n",
              "    <tr>\n",
              "      <th>100000</th>\n",
              "      <td>100.000</td>\n",
              "      <td>158.113488</td>\n",
              "    </tr>\n",
              "    <tr>\n",
              "      <th>1000000</th>\n",
              "      <td>0</td>\n",
              "      <td>499.999875</td>\n",
              "    </tr>\n",
              "    <tr>\n",
              "      <th>10000000</th>\n",
              "      <td>0.00</td>\n",
              "      <td>1581.138790</td>\n",
              "    </tr>\n",
              "    <tr>\n",
              "      <th>100000000</th>\n",
              "      <td>0</td>\n",
              "      <td>5000.000056</td>\n",
              "    </tr>\n",
              "    <tr>\n",
              "      <th>1000000000</th>\n",
              "      <td>0.0</td>\n",
              "      <td>15811.390767</td>\n",
              "    </tr>\n",
              "  </tbody>\n",
              "</table>\n",
              "</div>\n",
              "    <div class=\"colab-df-buttons\">\n",
              "\n",
              "  <div class=\"colab-df-container\">\n",
              "    <button class=\"colab-df-convert\" onclick=\"convertToInteractive('df-087f4d03-5ff1-431f-99a3-4ebb5bf9d24c')\"\n",
              "            title=\"Convert this dataframe to an interactive table.\"\n",
              "            style=\"display:none;\">\n",
              "\n",
              "  <svg xmlns=\"http://www.w3.org/2000/svg\" height=\"24px\" viewBox=\"0 -960 960 960\">\n",
              "    <path d=\"M120-120v-720h720v720H120Zm60-500h600v-160H180v160Zm220 220h160v-160H400v160Zm0 220h160v-160H400v160ZM180-400h160v-160H180v160Zm440 0h160v-160H620v160ZM180-180h160v-160H180v160Zm440 0h160v-160H620v160Z\"/>\n",
              "  </svg>\n",
              "    </button>\n",
              "\n",
              "  <style>\n",
              "    .colab-df-container {\n",
              "      display:flex;\n",
              "      gap: 12px;\n",
              "    }\n",
              "\n",
              "    .colab-df-convert {\n",
              "      background-color: #E8F0FE;\n",
              "      border: none;\n",
              "      border-radius: 50%;\n",
              "      cursor: pointer;\n",
              "      display: none;\n",
              "      fill: #1967D2;\n",
              "      height: 32px;\n",
              "      padding: 0 0 0 0;\n",
              "      width: 32px;\n",
              "    }\n",
              "\n",
              "    .colab-df-convert:hover {\n",
              "      background-color: #E2EBFA;\n",
              "      box-shadow: 0px 1px 2px rgba(60, 64, 67, 0.3), 0px 1px 3px 1px rgba(60, 64, 67, 0.15);\n",
              "      fill: #174EA6;\n",
              "    }\n",
              "\n",
              "    .colab-df-buttons div {\n",
              "      margin-bottom: 4px;\n",
              "    }\n",
              "\n",
              "    [theme=dark] .colab-df-convert {\n",
              "      background-color: #3B4455;\n",
              "      fill: #D2E3FC;\n",
              "    }\n",
              "\n",
              "    [theme=dark] .colab-df-convert:hover {\n",
              "      background-color: #434B5C;\n",
              "      box-shadow: 0px 1px 3px 1px rgba(0, 0, 0, 0.15);\n",
              "      filter: drop-shadow(0px 1px 2px rgba(0, 0, 0, 0.3));\n",
              "      fill: #FFFFFF;\n",
              "    }\n",
              "  </style>\n",
              "\n",
              "    <script>\n",
              "      const buttonEl =\n",
              "        document.querySelector('#df-087f4d03-5ff1-431f-99a3-4ebb5bf9d24c button.colab-df-convert');\n",
              "      buttonEl.style.display =\n",
              "        google.colab.kernel.accessAllowed ? 'block' : 'none';\n",
              "\n",
              "      async function convertToInteractive(key) {\n",
              "        const element = document.querySelector('#df-087f4d03-5ff1-431f-99a3-4ebb5bf9d24c');\n",
              "        const dataTable =\n",
              "          await google.colab.kernel.invokeFunction('convertToInteractive',\n",
              "                                                    [key], {});\n",
              "        if (!dataTable) return;\n",
              "\n",
              "        const docLinkHtml = 'Like what you see? Visit the ' +\n",
              "          '<a target=\"_blank\" href=https://colab.research.google.com/notebooks/data_table.ipynb>data table notebook</a>'\n",
              "          + ' to learn more about interactive tables.';\n",
              "        element.innerHTML = '';\n",
              "        dataTable['output_type'] = 'display_data';\n",
              "        await google.colab.output.renderOutput(dataTable, element);\n",
              "        const docLink = document.createElement('div');\n",
              "        docLink.innerHTML = docLinkHtml;\n",
              "        element.appendChild(docLink);\n",
              "      }\n",
              "    </script>\n",
              "  </div>\n",
              "\n",
              "\n",
              "<div id=\"df-1f5fa7ef-6480-4cc7-95cc-fd15996c921b\">\n",
              "  <button class=\"colab-df-quickchart\" onclick=\"quickchart('df-1f5fa7ef-6480-4cc7-95cc-fd15996c921b')\"\n",
              "            title=\"Suggest charts\"\n",
              "            style=\"display:none;\">\n",
              "\n",
              "<svg xmlns=\"http://www.w3.org/2000/svg\" height=\"24px\"viewBox=\"0 0 24 24\"\n",
              "     width=\"24px\">\n",
              "    <g>\n",
              "        <path d=\"M19 3H5c-1.1 0-2 .9-2 2v14c0 1.1.9 2 2 2h14c1.1 0 2-.9 2-2V5c0-1.1-.9-2-2-2zM9 17H7v-7h2v7zm4 0h-2V7h2v10zm4 0h-2v-4h2v4z\"/>\n",
              "    </g>\n",
              "</svg>\n",
              "  </button>\n",
              "\n",
              "<style>\n",
              "  .colab-df-quickchart {\n",
              "      --bg-color: #E8F0FE;\n",
              "      --fill-color: #1967D2;\n",
              "      --hover-bg-color: #E2EBFA;\n",
              "      --hover-fill-color: #174EA6;\n",
              "      --disabled-fill-color: #AAA;\n",
              "      --disabled-bg-color: #DDD;\n",
              "  }\n",
              "\n",
              "  [theme=dark] .colab-df-quickchart {\n",
              "      --bg-color: #3B4455;\n",
              "      --fill-color: #D2E3FC;\n",
              "      --hover-bg-color: #434B5C;\n",
              "      --hover-fill-color: #FFFFFF;\n",
              "      --disabled-bg-color: #3B4455;\n",
              "      --disabled-fill-color: #666;\n",
              "  }\n",
              "\n",
              "  .colab-df-quickchart {\n",
              "    background-color: var(--bg-color);\n",
              "    border: none;\n",
              "    border-radius: 50%;\n",
              "    cursor: pointer;\n",
              "    display: none;\n",
              "    fill: var(--fill-color);\n",
              "    height: 32px;\n",
              "    padding: 0;\n",
              "    width: 32px;\n",
              "  }\n",
              "\n",
              "  .colab-df-quickchart:hover {\n",
              "    background-color: var(--hover-bg-color);\n",
              "    box-shadow: 0 1px 2px rgba(60, 64, 67, 0.3), 0 1px 3px 1px rgba(60, 64, 67, 0.15);\n",
              "    fill: var(--button-hover-fill-color);\n",
              "  }\n",
              "\n",
              "  .colab-df-quickchart-complete:disabled,\n",
              "  .colab-df-quickchart-complete:disabled:hover {\n",
              "    background-color: var(--disabled-bg-color);\n",
              "    fill: var(--disabled-fill-color);\n",
              "    box-shadow: none;\n",
              "  }\n",
              "\n",
              "  .colab-df-spinner {\n",
              "    border: 2px solid var(--fill-color);\n",
              "    border-color: transparent;\n",
              "    border-bottom-color: var(--fill-color);\n",
              "    animation:\n",
              "      spin 1s steps(1) infinite;\n",
              "  }\n",
              "\n",
              "  @keyframes spin {\n",
              "    0% {\n",
              "      border-color: transparent;\n",
              "      border-bottom-color: var(--fill-color);\n",
              "      border-left-color: var(--fill-color);\n",
              "    }\n",
              "    20% {\n",
              "      border-color: transparent;\n",
              "      border-left-color: var(--fill-color);\n",
              "      border-top-color: var(--fill-color);\n",
              "    }\n",
              "    30% {\n",
              "      border-color: transparent;\n",
              "      border-left-color: var(--fill-color);\n",
              "      border-top-color: var(--fill-color);\n",
              "      border-right-color: var(--fill-color);\n",
              "    }\n",
              "    40% {\n",
              "      border-color: transparent;\n",
              "      border-right-color: var(--fill-color);\n",
              "      border-top-color: var(--fill-color);\n",
              "    }\n",
              "    60% {\n",
              "      border-color: transparent;\n",
              "      border-right-color: var(--fill-color);\n",
              "    }\n",
              "    80% {\n",
              "      border-color: transparent;\n",
              "      border-right-color: var(--fill-color);\n",
              "      border-bottom-color: var(--fill-color);\n",
              "    }\n",
              "    90% {\n",
              "      border-color: transparent;\n",
              "      border-bottom-color: var(--fill-color);\n",
              "    }\n",
              "  }\n",
              "</style>\n",
              "\n",
              "  <script>\n",
              "    async function quickchart(key) {\n",
              "      const quickchartButtonEl =\n",
              "        document.querySelector('#' + key + ' button');\n",
              "      quickchartButtonEl.disabled = true;  // To prevent multiple clicks.\n",
              "      quickchartButtonEl.classList.add('colab-df-spinner');\n",
              "      try {\n",
              "        const charts = await google.colab.kernel.invokeFunction(\n",
              "            'suggestCharts', [key], {});\n",
              "      } catch (error) {\n",
              "        console.error('Error during call to suggestCharts:', error);\n",
              "      }\n",
              "      quickchartButtonEl.classList.remove('colab-df-spinner');\n",
              "      quickchartButtonEl.classList.add('colab-df-quickchart-complete');\n",
              "    }\n",
              "    (() => {\n",
              "      let quickchartButtonEl =\n",
              "        document.querySelector('#df-1f5fa7ef-6480-4cc7-95cc-fd15996c921b button');\n",
              "      quickchartButtonEl.style.display =\n",
              "        google.colab.kernel.accessAllowed ? 'block' : 'none';\n",
              "    })();\n",
              "  </script>\n",
              "</div>\n",
              "\n",
              "    </div>\n",
              "  </div>\n"
            ],
            "application/vnd.google.colaboratory.intrinsic+json": {
              "type": "dataframe",
              "summary": "{\n  \"name\": \"pd\",\n  \"rows\": 10,\n  \"fields\": [\n    {\n      \"column\": \"Aprox\",\n      \"properties\": {\n        \"dtype\": \"string\",\n        \"num_unique_values\": 7,\n        \"samples\": [\n          \"0.41421\",\n          \"1.54340\",\n          \"100.000\"\n        ],\n        \"semantic_type\": \"\",\n        \"description\": \"\"\n      }\n    },\n    {\n      \"column\": \"Real\",\n      \"properties\": {\n        \"dtype\": \"number\",\n        \"std\": 4992.313185190596,\n        \"min\": 0.41421356237309515,\n        \"max\": 15811.390767339617,\n        \"num_unique_values\": 10,\n        \"samples\": [\n          5000.000055588316,\n          1.5434713018702029,\n          158.1134877255863\n        ],\n        \"semantic_type\": \"\",\n        \"description\": \"\"\n      }\n    }\n  ]\n}"
            }
          },
          "metadata": {},
          "execution_count": 9
        }
      ],
      "source": [
        "from decimal import Decimal as D, getcontext as C #C=getcontext()\n",
        "import pandas as pd\n",
        "from math import sqrt\n",
        "\n",
        "C().prec = 6 #get.context().prec=6\n",
        "\n",
        "def f(x):#getcontext es 16 cifras significativas\n",
        "    return x * (sqrt(x + 1) - sqrt(x))\n",
        "def fd(x): #getcontext es de 6 cifras significativas\n",
        "    return x * (C().sqrt(x + D(1)) - C().sqrt(x))\n",
        "residuo = []\n",
        "idx = []\n",
        "for i in range(10):\n",
        "    x = 10**i\n",
        "    idx.append(x)\n",
        "    residuo.append([fd(D(x)), f(x)])\n",
        "#print(residuo)\n",
        "cols = [\"Aprox\", \"Real\"]\n",
        "pd.DataFrame(residuo, index=idx, columns=cols)"
      ]
    },
    {
      "cell_type": "markdown",
      "metadata": {
        "id": "radBUNYgE4zt"
      },
      "source": [
        "### Ejemplo\n",
        "\n",
        "Definimos\n",
        "$$f_1(x) = \\frac{1 - \\cos(x)}{x^2}, \\qquad x \\not= 0$$\n",
        "evaluamos con 10 digitos de precisión"
      ]
    },
    {
      "cell_type": "code",
      "execution_count": null,
      "metadata": {
        "colab": {
          "base_uri": "https://localhost:8080/",
          "height": 237
        },
        "id": "T32oQAzGE4zt",
        "outputId": "ddcd7708-5804-4593-ae0a-bbbb93eb5c90"
      },
      "outputs": [
        {
          "output_type": "execute_result",
          "data": {
            "text/plain": [
              "               Aprox      Real        Error%\n",
              "0.100000  0.49958347  0.499583  2.197418e-07\n",
              "0.010000    0.499996  0.499996  1.666526e-05\n",
              "0.001000         0.5  0.500000  4.167450e-06\n",
              "0.000100         0.5  0.500000  3.038735e-07\n",
              "0.000010           1  0.500000  5.000000e+01\n",
              "0.000001       0E+12  0.500044  5.000445e+01"
            ],
            "text/html": [
              "\n",
              "  <div id=\"df-bf683e6b-4e9a-43d0-bcef-c49acba6db14\" class=\"colab-df-container\">\n",
              "    <div>\n",
              "<style scoped>\n",
              "    .dataframe tbody tr th:only-of-type {\n",
              "        vertical-align: middle;\n",
              "    }\n",
              "\n",
              "    .dataframe tbody tr th {\n",
              "        vertical-align: top;\n",
              "    }\n",
              "\n",
              "    .dataframe thead th {\n",
              "        text-align: right;\n",
              "    }\n",
              "</style>\n",
              "<table border=\"1\" class=\"dataframe\">\n",
              "  <thead>\n",
              "    <tr style=\"text-align: right;\">\n",
              "      <th></th>\n",
              "      <th>Aprox</th>\n",
              "      <th>Real</th>\n",
              "      <th>Error%</th>\n",
              "    </tr>\n",
              "  </thead>\n",
              "  <tbody>\n",
              "    <tr>\n",
              "      <th>0.100000</th>\n",
              "      <td>0.49958347</td>\n",
              "      <td>0.499583</td>\n",
              "      <td>2.197418e-07</td>\n",
              "    </tr>\n",
              "    <tr>\n",
              "      <th>0.010000</th>\n",
              "      <td>0.499996</td>\n",
              "      <td>0.499996</td>\n",
              "      <td>1.666526e-05</td>\n",
              "    </tr>\n",
              "    <tr>\n",
              "      <th>0.001000</th>\n",
              "      <td>0.5</td>\n",
              "      <td>0.500000</td>\n",
              "      <td>4.167450e-06</td>\n",
              "    </tr>\n",
              "    <tr>\n",
              "      <th>0.000100</th>\n",
              "      <td>0.5</td>\n",
              "      <td>0.500000</td>\n",
              "      <td>3.038735e-07</td>\n",
              "    </tr>\n",
              "    <tr>\n",
              "      <th>0.000010</th>\n",
              "      <td>1</td>\n",
              "      <td>0.500000</td>\n",
              "      <td>5.000000e+01</td>\n",
              "    </tr>\n",
              "    <tr>\n",
              "      <th>0.000001</th>\n",
              "      <td>0E+12</td>\n",
              "      <td>0.500044</td>\n",
              "      <td>5.000445e+01</td>\n",
              "    </tr>\n",
              "  </tbody>\n",
              "</table>\n",
              "</div>\n",
              "    <div class=\"colab-df-buttons\">\n",
              "\n",
              "  <div class=\"colab-df-container\">\n",
              "    <button class=\"colab-df-convert\" onclick=\"convertToInteractive('df-bf683e6b-4e9a-43d0-bcef-c49acba6db14')\"\n",
              "            title=\"Convert this dataframe to an interactive table.\"\n",
              "            style=\"display:none;\">\n",
              "\n",
              "  <svg xmlns=\"http://www.w3.org/2000/svg\" height=\"24px\" viewBox=\"0 -960 960 960\">\n",
              "    <path d=\"M120-120v-720h720v720H120Zm60-500h600v-160H180v160Zm220 220h160v-160H400v160Zm0 220h160v-160H400v160ZM180-400h160v-160H180v160Zm440 0h160v-160H620v160ZM180-180h160v-160H180v160Zm440 0h160v-160H620v160Z\"/>\n",
              "  </svg>\n",
              "    </button>\n",
              "\n",
              "  <style>\n",
              "    .colab-df-container {\n",
              "      display:flex;\n",
              "      gap: 12px;\n",
              "    }\n",
              "\n",
              "    .colab-df-convert {\n",
              "      background-color: #E8F0FE;\n",
              "      border: none;\n",
              "      border-radius: 50%;\n",
              "      cursor: pointer;\n",
              "      display: none;\n",
              "      fill: #1967D2;\n",
              "      height: 32px;\n",
              "      padding: 0 0 0 0;\n",
              "      width: 32px;\n",
              "    }\n",
              "\n",
              "    .colab-df-convert:hover {\n",
              "      background-color: #E2EBFA;\n",
              "      box-shadow: 0px 1px 2px rgba(60, 64, 67, 0.3), 0px 1px 3px 1px rgba(60, 64, 67, 0.15);\n",
              "      fill: #174EA6;\n",
              "    }\n",
              "\n",
              "    .colab-df-buttons div {\n",
              "      margin-bottom: 4px;\n",
              "    }\n",
              "\n",
              "    [theme=dark] .colab-df-convert {\n",
              "      background-color: #3B4455;\n",
              "      fill: #D2E3FC;\n",
              "    }\n",
              "\n",
              "    [theme=dark] .colab-df-convert:hover {\n",
              "      background-color: #434B5C;\n",
              "      box-shadow: 0px 1px 3px 1px rgba(0, 0, 0, 0.15);\n",
              "      filter: drop-shadow(0px 1px 2px rgba(0, 0, 0, 0.3));\n",
              "      fill: #FFFFFF;\n",
              "    }\n",
              "  </style>\n",
              "\n",
              "    <script>\n",
              "      const buttonEl =\n",
              "        document.querySelector('#df-bf683e6b-4e9a-43d0-bcef-c49acba6db14 button.colab-df-convert');\n",
              "      buttonEl.style.display =\n",
              "        google.colab.kernel.accessAllowed ? 'block' : 'none';\n",
              "\n",
              "      async function convertToInteractive(key) {\n",
              "        const element = document.querySelector('#df-bf683e6b-4e9a-43d0-bcef-c49acba6db14');\n",
              "        const dataTable =\n",
              "          await google.colab.kernel.invokeFunction('convertToInteractive',\n",
              "                                                    [key], {});\n",
              "        if (!dataTable) return;\n",
              "\n",
              "        const docLinkHtml = 'Like what you see? Visit the ' +\n",
              "          '<a target=\"_blank\" href=https://colab.research.google.com/notebooks/data_table.ipynb>data table notebook</a>'\n",
              "          + ' to learn more about interactive tables.';\n",
              "        element.innerHTML = '';\n",
              "        dataTable['output_type'] = 'display_data';\n",
              "        await google.colab.output.renderOutput(dataTable, element);\n",
              "        const docLink = document.createElement('div');\n",
              "        docLink.innerHTML = docLinkHtml;\n",
              "        element.appendChild(docLink);\n",
              "      }\n",
              "    </script>\n",
              "  </div>\n",
              "\n",
              "\n",
              "<div id=\"df-24a3da9b-cd5f-4f8c-be56-84abef5126cb\">\n",
              "  <button class=\"colab-df-quickchart\" onclick=\"quickchart('df-24a3da9b-cd5f-4f8c-be56-84abef5126cb')\"\n",
              "            title=\"Suggest charts\"\n",
              "            style=\"display:none;\">\n",
              "\n",
              "<svg xmlns=\"http://www.w3.org/2000/svg\" height=\"24px\"viewBox=\"0 0 24 24\"\n",
              "     width=\"24px\">\n",
              "    <g>\n",
              "        <path d=\"M19 3H5c-1.1 0-2 .9-2 2v14c0 1.1.9 2 2 2h14c1.1 0 2-.9 2-2V5c0-1.1-.9-2-2-2zM9 17H7v-7h2v7zm4 0h-2V7h2v10zm4 0h-2v-4h2v4z\"/>\n",
              "    </g>\n",
              "</svg>\n",
              "  </button>\n",
              "\n",
              "<style>\n",
              "  .colab-df-quickchart {\n",
              "      --bg-color: #E8F0FE;\n",
              "      --fill-color: #1967D2;\n",
              "      --hover-bg-color: #E2EBFA;\n",
              "      --hover-fill-color: #174EA6;\n",
              "      --disabled-fill-color: #AAA;\n",
              "      --disabled-bg-color: #DDD;\n",
              "  }\n",
              "\n",
              "  [theme=dark] .colab-df-quickchart {\n",
              "      --bg-color: #3B4455;\n",
              "      --fill-color: #D2E3FC;\n",
              "      --hover-bg-color: #434B5C;\n",
              "      --hover-fill-color: #FFFFFF;\n",
              "      --disabled-bg-color: #3B4455;\n",
              "      --disabled-fill-color: #666;\n",
              "  }\n",
              "\n",
              "  .colab-df-quickchart {\n",
              "    background-color: var(--bg-color);\n",
              "    border: none;\n",
              "    border-radius: 50%;\n",
              "    cursor: pointer;\n",
              "    display: none;\n",
              "    fill: var(--fill-color);\n",
              "    height: 32px;\n",
              "    padding: 0;\n",
              "    width: 32px;\n",
              "  }\n",
              "\n",
              "  .colab-df-quickchart:hover {\n",
              "    background-color: var(--hover-bg-color);\n",
              "    box-shadow: 0 1px 2px rgba(60, 64, 67, 0.3), 0 1px 3px 1px rgba(60, 64, 67, 0.15);\n",
              "    fill: var(--button-hover-fill-color);\n",
              "  }\n",
              "\n",
              "  .colab-df-quickchart-complete:disabled,\n",
              "  .colab-df-quickchart-complete:disabled:hover {\n",
              "    background-color: var(--disabled-bg-color);\n",
              "    fill: var(--disabled-fill-color);\n",
              "    box-shadow: none;\n",
              "  }\n",
              "\n",
              "  .colab-df-spinner {\n",
              "    border: 2px solid var(--fill-color);\n",
              "    border-color: transparent;\n",
              "    border-bottom-color: var(--fill-color);\n",
              "    animation:\n",
              "      spin 1s steps(1) infinite;\n",
              "  }\n",
              "\n",
              "  @keyframes spin {\n",
              "    0% {\n",
              "      border-color: transparent;\n",
              "      border-bottom-color: var(--fill-color);\n",
              "      border-left-color: var(--fill-color);\n",
              "    }\n",
              "    20% {\n",
              "      border-color: transparent;\n",
              "      border-left-color: var(--fill-color);\n",
              "      border-top-color: var(--fill-color);\n",
              "    }\n",
              "    30% {\n",
              "      border-color: transparent;\n",
              "      border-left-color: var(--fill-color);\n",
              "      border-top-color: var(--fill-color);\n",
              "      border-right-color: var(--fill-color);\n",
              "    }\n",
              "    40% {\n",
              "      border-color: transparent;\n",
              "      border-right-color: var(--fill-color);\n",
              "      border-top-color: var(--fill-color);\n",
              "    }\n",
              "    60% {\n",
              "      border-color: transparent;\n",
              "      border-right-color: var(--fill-color);\n",
              "    }\n",
              "    80% {\n",
              "      border-color: transparent;\n",
              "      border-right-color: var(--fill-color);\n",
              "      border-bottom-color: var(--fill-color);\n",
              "    }\n",
              "    90% {\n",
              "      border-color: transparent;\n",
              "      border-bottom-color: var(--fill-color);\n",
              "    }\n",
              "  }\n",
              "</style>\n",
              "\n",
              "  <script>\n",
              "    async function quickchart(key) {\n",
              "      const quickchartButtonEl =\n",
              "        document.querySelector('#' + key + ' button');\n",
              "      quickchartButtonEl.disabled = true;  // To prevent multiple clicks.\n",
              "      quickchartButtonEl.classList.add('colab-df-spinner');\n",
              "      try {\n",
              "        const charts = await google.colab.kernel.invokeFunction(\n",
              "            'suggestCharts', [key], {});\n",
              "      } catch (error) {\n",
              "        console.error('Error during call to suggestCharts:', error);\n",
              "      }\n",
              "      quickchartButtonEl.classList.remove('colab-df-spinner');\n",
              "      quickchartButtonEl.classList.add('colab-df-quickchart-complete');\n",
              "    }\n",
              "    (() => {\n",
              "      let quickchartButtonEl =\n",
              "        document.querySelector('#df-24a3da9b-cd5f-4f8c-be56-84abef5126cb button');\n",
              "      quickchartButtonEl.style.display =\n",
              "        google.colab.kernel.accessAllowed ? 'block' : 'none';\n",
              "    })();\n",
              "  </script>\n",
              "</div>\n",
              "\n",
              "    </div>\n",
              "  </div>\n"
            ],
            "application/vnd.google.colaboratory.intrinsic+json": {
              "type": "dataframe",
              "summary": "{\n  \"name\": \"#pd\",\n  \"rows\": 6,\n  \"fields\": [\n    {\n      \"column\": \"Aprox\",\n      \"properties\": {\n        \"dtype\": \"string\",\n        \"num_unique_values\": 5,\n        \"samples\": [\n          \"0.499996\",\n          \"0E+12\",\n          \"0.5\"\n        ],\n        \"semantic_type\": \"\",\n        \"description\": \"\"\n      }\n    },\n    {\n      \"column\": \"Real\",\n      \"properties\": {\n        \"dtype\": \"number\",\n        \"std\": 0.0001742956714294585,\n        \"min\": 0.49958347219741783,\n        \"max\": 0.5000444502911705,\n        \"num_unique_values\": 6,\n        \"samples\": [\n          0.49958347219741783,\n          0.4999958333473664,\n          0.5000444502911705\n        ],\n        \"semantic_type\": \"\",\n        \"description\": \"\"\n      }\n    },\n    {\n      \"column\": \"Error%\",\n      \"properties\": {\n        \"dtype\": \"number\",\n        \"std\": 25.82103288936731,\n        \"min\": 2.1974178587846893e-07,\n        \"max\": 50.00444502911705,\n        \"num_unique_values\": 6,\n        \"samples\": [\n          2.1974178587846893e-07,\n          1.6665263358195403e-05,\n          50.00444502911705\n        ],\n        \"semantic_type\": \"\",\n        \"description\": \"\"\n      }\n    }\n  ]\n}"
            }
          },
          "metadata": {},
          "execution_count": 10
        }
      ],
      "source": [
        "from decimal import Decimal as D, getcontext as C #C=getcontext()\n",
        "import pandas as pd\n",
        "from math import sqrt, cos\n",
        "\n",
        "C().prec = 10\n",
        "#from math import cos\n",
        "def f1(x):\n",
        "    return (1 - cos(x)) / (x*x)\n",
        "def f1d(x):\n",
        "    #return D(D(1) - D(cos(D(x)))) / (D(x*x)) #regresa en el contexto default 16\n",
        "    return +D(D(1) - (+D(cos(+D(x))))) / (+D(x)*+D(x))\n",
        "##feb 2024 del modulo (3.12.2) + -D indicador de la prec sustituye el getcontext\n",
        "residuo = []\n",
        "idx = []\n",
        "for i in range(1, 7):\n",
        "    x = 10**(-i)\n",
        "    idx.append(x)\n",
        "    err=abs(float(f1d(+D(x)))-f1(x))\n",
        "    residuo.append([f1d(+D(x)), f1(x),err*100])\n",
        "#pd.set_option(\"precision\", C().prec)\n",
        "cols = [\"Aprox\", \"Real\",\"Error%\"]\n",
        "pd.DataFrame(residuo, index=idx, columns=cols)\n",
        "#pd.DataFrame(residuo, columns=cols)"
      ]
    },
    {
      "cell_type": "code",
      "execution_count": null,
      "metadata": {
        "colab": {
          "base_uri": "https://localhost:8080/"
        },
        "id": "09wymfarE4zt",
        "outputId": "06a46e6b-a12a-4be8-8bb1-59bc4b7a8a0a"
      },
      "outputs": [
        {
          "output_type": "execute_result",
          "data": {
            "text/plain": [
              "Decimal('0.9999995000')"
            ]
          },
          "metadata": {},
          "execution_count": 11
        }
      ],
      "source": [
        "x = +D(0.001)\n",
        "+D(cos(x))  #Redondeamos el resultado final regresando a la precisión default"
      ]
    },
    {
      "cell_type": "markdown",
      "metadata": {
        "id": "KuPYPyoxE4zu"
      },
      "source": [
        "### 3. Errores en el planteamiento"
      ]
    },
    {
      "cell_type": "markdown",
      "metadata": {
        "id": "pacSG2W7E4zu"
      },
      "source": [
        "Es consecuencia de restar dos numeros casí iguales, generan perdidas de significancia. Es difícil de detectar y no siempre es fácil evitarlo.\n",
        "\n",
        "###  Ejemplo:\n",
        "Sea $f(x) = \\frac{1 - \\cos(x)}{x^2}$, usando $$\\cos(2\\theta) = 2\\cos^2(\\theta) - 1 = 1 - 2\\sin^2(\\theta)$$\n",
        "\n",
        "Con $x=2\\theta$:\n",
        "\\begin{eqnarray}\n",
        "f(x) &=& \\frac{1 - \\cos(x)}{x^2} = \\frac{2\\sin^2(x/2)}{x^2}\\\\\n",
        "     &=& \\frac{1}{2} \\left[\\frac{\\sin(x/2)}{x/2}\\right]^2\n",
        "\\end{eqnarray}\n",
        "\n",
        "Comparar varios valores muy pequeños $x\\approx 0.001$"
      ]
    },
    {
      "cell_type": "code",
      "execution_count": null,
      "metadata": {
        "colab": {
          "base_uri": "https://localhost:8080/"
        },
        "id": "o8OaFTl8E4zu",
        "outputId": "b726f768-2f1e-4b0e-c67e-a006e8a09e4b"
      },
      "outputs": [
        {
          "output_type": "stream",
          "name": "stdout",
          "text": [
            "Funcion original y 16 digitos 0.5000000414\n",
            "Funcion aprox y 16 digitos 0.5000000000\n",
            "Funcion original y 10 digitos 1\n",
            "Funcion aprox y 10 digitos 0.500\n"
          ]
        }
      ],
      "source": [
        "from decimal import Decimal as D, getcontext as C\n",
        "from math import sin,cos\n",
        "\n",
        "C().prec = 10\n",
        "\n",
        "def f1(x):\n",
        "    return (1 - cos(x)) / (x*x)\n",
        "def f1d(x):\n",
        "    return +D(D(1) - (+D(cos(+D(x))))) / (+D(+D(x)*+D(x)))\n",
        "\n",
        "def f1a(x):\n",
        "    return 0.5 * (sin(x/2) / (x/2))**2\n",
        "def f1da(x):\n",
        "    return +D(0.5) * (+D(sin(x/2))/ (x/2))**2\n",
        "\n",
        "print('Funcion original y 16 digitos',+D(f1(0.00001)))\n",
        "print('Funcion aprox y 16 digitos',+D(f1a(0.00001)))\n",
        "print('Funcion original y 10 digitos',f1d(+D(0.00001)))\n",
        "print('Funcion aprox y 10 digitos',f1da(+D(0.00001)))\n",
        "\n",
        "#f1 sin aproximar y con 16 digitos\n",
        "#f1a sin aproximar y con 16 digitos\n",
        "#f1d con aproximacion y con 10 digitos\n",
        "#f1da con aproximacionr y con 10 digitos"
      ]
    },
    {
      "cell_type": "markdown",
      "metadata": {
        "id": "3xiYuCu2E4zu"
      },
      "source": [
        "Notamos que el resultado approximado y el correcto están mucho más cerca, el error casi desapareció."
      ]
    },
    {
      "cell_type": "code",
      "execution_count": null,
      "metadata": {
        "colab": {
          "base_uri": "https://localhost:8080/",
          "height": 237
        },
        "id": "MlzhU70cE4zu",
        "outputId": "d7510852-6b44-48b7-93bf-8d0dcbc150b1"
      },
      "outputs": [
        {
          "output_type": "execute_result",
          "data": {
            "text/plain": [
              "             Apr cos       Apr sen  Exacto cos  Exacto sen\n",
              "0.100000  0.49958347  0.4995834722    0.499583    0.499583\n",
              "0.010000    0.499996  0.4999958334    0.499996    0.499996\n",
              "0.001000         0.5  0.4999999584    0.500000    0.500000\n",
              "0.000100         0.5  0.4999999996    0.500000    0.500000\n",
              "0.000010           1         0.500    0.500000    0.500000\n",
              "0.000001       0E+12         0.500    0.500044    0.500000"
            ],
            "text/html": [
              "\n",
              "  <div id=\"df-19978b4e-09d4-401c-95a1-234feace2109\" class=\"colab-df-container\">\n",
              "    <div>\n",
              "<style scoped>\n",
              "    .dataframe tbody tr th:only-of-type {\n",
              "        vertical-align: middle;\n",
              "    }\n",
              "\n",
              "    .dataframe tbody tr th {\n",
              "        vertical-align: top;\n",
              "    }\n",
              "\n",
              "    .dataframe thead th {\n",
              "        text-align: right;\n",
              "    }\n",
              "</style>\n",
              "<table border=\"1\" class=\"dataframe\">\n",
              "  <thead>\n",
              "    <tr style=\"text-align: right;\">\n",
              "      <th></th>\n",
              "      <th>Apr cos</th>\n",
              "      <th>Apr sen</th>\n",
              "      <th>Exacto cos</th>\n",
              "      <th>Exacto sen</th>\n",
              "    </tr>\n",
              "  </thead>\n",
              "  <tbody>\n",
              "    <tr>\n",
              "      <th>0.100000</th>\n",
              "      <td>0.49958347</td>\n",
              "      <td>0.4995834722</td>\n",
              "      <td>0.499583</td>\n",
              "      <td>0.499583</td>\n",
              "    </tr>\n",
              "    <tr>\n",
              "      <th>0.010000</th>\n",
              "      <td>0.499996</td>\n",
              "      <td>0.4999958334</td>\n",
              "      <td>0.499996</td>\n",
              "      <td>0.499996</td>\n",
              "    </tr>\n",
              "    <tr>\n",
              "      <th>0.001000</th>\n",
              "      <td>0.5</td>\n",
              "      <td>0.4999999584</td>\n",
              "      <td>0.500000</td>\n",
              "      <td>0.500000</td>\n",
              "    </tr>\n",
              "    <tr>\n",
              "      <th>0.000100</th>\n",
              "      <td>0.5</td>\n",
              "      <td>0.4999999996</td>\n",
              "      <td>0.500000</td>\n",
              "      <td>0.500000</td>\n",
              "    </tr>\n",
              "    <tr>\n",
              "      <th>0.000010</th>\n",
              "      <td>1</td>\n",
              "      <td>0.500</td>\n",
              "      <td>0.500000</td>\n",
              "      <td>0.500000</td>\n",
              "    </tr>\n",
              "    <tr>\n",
              "      <th>0.000001</th>\n",
              "      <td>0E+12</td>\n",
              "      <td>0.500</td>\n",
              "      <td>0.500044</td>\n",
              "      <td>0.500000</td>\n",
              "    </tr>\n",
              "  </tbody>\n",
              "</table>\n",
              "</div>\n",
              "    <div class=\"colab-df-buttons\">\n",
              "\n",
              "  <div class=\"colab-df-container\">\n",
              "    <button class=\"colab-df-convert\" onclick=\"convertToInteractive('df-19978b4e-09d4-401c-95a1-234feace2109')\"\n",
              "            title=\"Convert this dataframe to an interactive table.\"\n",
              "            style=\"display:none;\">\n",
              "\n",
              "  <svg xmlns=\"http://www.w3.org/2000/svg\" height=\"24px\" viewBox=\"0 -960 960 960\">\n",
              "    <path d=\"M120-120v-720h720v720H120Zm60-500h600v-160H180v160Zm220 220h160v-160H400v160Zm0 220h160v-160H400v160ZM180-400h160v-160H180v160Zm440 0h160v-160H620v160ZM180-180h160v-160H180v160Zm440 0h160v-160H620v160Z\"/>\n",
              "  </svg>\n",
              "    </button>\n",
              "\n",
              "  <style>\n",
              "    .colab-df-container {\n",
              "      display:flex;\n",
              "      gap: 12px;\n",
              "    }\n",
              "\n",
              "    .colab-df-convert {\n",
              "      background-color: #E8F0FE;\n",
              "      border: none;\n",
              "      border-radius: 50%;\n",
              "      cursor: pointer;\n",
              "      display: none;\n",
              "      fill: #1967D2;\n",
              "      height: 32px;\n",
              "      padding: 0 0 0 0;\n",
              "      width: 32px;\n",
              "    }\n",
              "\n",
              "    .colab-df-convert:hover {\n",
              "      background-color: #E2EBFA;\n",
              "      box-shadow: 0px 1px 2px rgba(60, 64, 67, 0.3), 0px 1px 3px 1px rgba(60, 64, 67, 0.15);\n",
              "      fill: #174EA6;\n",
              "    }\n",
              "\n",
              "    .colab-df-buttons div {\n",
              "      margin-bottom: 4px;\n",
              "    }\n",
              "\n",
              "    [theme=dark] .colab-df-convert {\n",
              "      background-color: #3B4455;\n",
              "      fill: #D2E3FC;\n",
              "    }\n",
              "\n",
              "    [theme=dark] .colab-df-convert:hover {\n",
              "      background-color: #434B5C;\n",
              "      box-shadow: 0px 1px 3px 1px rgba(0, 0, 0, 0.15);\n",
              "      filter: drop-shadow(0px 1px 2px rgba(0, 0, 0, 0.3));\n",
              "      fill: #FFFFFF;\n",
              "    }\n",
              "  </style>\n",
              "\n",
              "    <script>\n",
              "      const buttonEl =\n",
              "        document.querySelector('#df-19978b4e-09d4-401c-95a1-234feace2109 button.colab-df-convert');\n",
              "      buttonEl.style.display =\n",
              "        google.colab.kernel.accessAllowed ? 'block' : 'none';\n",
              "\n",
              "      async function convertToInteractive(key) {\n",
              "        const element = document.querySelector('#df-19978b4e-09d4-401c-95a1-234feace2109');\n",
              "        const dataTable =\n",
              "          await google.colab.kernel.invokeFunction('convertToInteractive',\n",
              "                                                    [key], {});\n",
              "        if (!dataTable) return;\n",
              "\n",
              "        const docLinkHtml = 'Like what you see? Visit the ' +\n",
              "          '<a target=\"_blank\" href=https://colab.research.google.com/notebooks/data_table.ipynb>data table notebook</a>'\n",
              "          + ' to learn more about interactive tables.';\n",
              "        element.innerHTML = '';\n",
              "        dataTable['output_type'] = 'display_data';\n",
              "        await google.colab.output.renderOutput(dataTable, element);\n",
              "        const docLink = document.createElement('div');\n",
              "        docLink.innerHTML = docLinkHtml;\n",
              "        element.appendChild(docLink);\n",
              "      }\n",
              "    </script>\n",
              "  </div>\n",
              "\n",
              "\n",
              "<div id=\"df-5a9bac9d-d5d5-41c4-8d43-ec07ae9faff4\">\n",
              "  <button class=\"colab-df-quickchart\" onclick=\"quickchart('df-5a9bac9d-d5d5-41c4-8d43-ec07ae9faff4')\"\n",
              "            title=\"Suggest charts\"\n",
              "            style=\"display:none;\">\n",
              "\n",
              "<svg xmlns=\"http://www.w3.org/2000/svg\" height=\"24px\"viewBox=\"0 0 24 24\"\n",
              "     width=\"24px\">\n",
              "    <g>\n",
              "        <path d=\"M19 3H5c-1.1 0-2 .9-2 2v14c0 1.1.9 2 2 2h14c1.1 0 2-.9 2-2V5c0-1.1-.9-2-2-2zM9 17H7v-7h2v7zm4 0h-2V7h2v10zm4 0h-2v-4h2v4z\"/>\n",
              "    </g>\n",
              "</svg>\n",
              "  </button>\n",
              "\n",
              "<style>\n",
              "  .colab-df-quickchart {\n",
              "      --bg-color: #E8F0FE;\n",
              "      --fill-color: #1967D2;\n",
              "      --hover-bg-color: #E2EBFA;\n",
              "      --hover-fill-color: #174EA6;\n",
              "      --disabled-fill-color: #AAA;\n",
              "      --disabled-bg-color: #DDD;\n",
              "  }\n",
              "\n",
              "  [theme=dark] .colab-df-quickchart {\n",
              "      --bg-color: #3B4455;\n",
              "      --fill-color: #D2E3FC;\n",
              "      --hover-bg-color: #434B5C;\n",
              "      --hover-fill-color: #FFFFFF;\n",
              "      --disabled-bg-color: #3B4455;\n",
              "      --disabled-fill-color: #666;\n",
              "  }\n",
              "\n",
              "  .colab-df-quickchart {\n",
              "    background-color: var(--bg-color);\n",
              "    border: none;\n",
              "    border-radius: 50%;\n",
              "    cursor: pointer;\n",
              "    display: none;\n",
              "    fill: var(--fill-color);\n",
              "    height: 32px;\n",
              "    padding: 0;\n",
              "    width: 32px;\n",
              "  }\n",
              "\n",
              "  .colab-df-quickchart:hover {\n",
              "    background-color: var(--hover-bg-color);\n",
              "    box-shadow: 0 1px 2px rgba(60, 64, 67, 0.3), 0 1px 3px 1px rgba(60, 64, 67, 0.15);\n",
              "    fill: var(--button-hover-fill-color);\n",
              "  }\n",
              "\n",
              "  .colab-df-quickchart-complete:disabled,\n",
              "  .colab-df-quickchart-complete:disabled:hover {\n",
              "    background-color: var(--disabled-bg-color);\n",
              "    fill: var(--disabled-fill-color);\n",
              "    box-shadow: none;\n",
              "  }\n",
              "\n",
              "  .colab-df-spinner {\n",
              "    border: 2px solid var(--fill-color);\n",
              "    border-color: transparent;\n",
              "    border-bottom-color: var(--fill-color);\n",
              "    animation:\n",
              "      spin 1s steps(1) infinite;\n",
              "  }\n",
              "\n",
              "  @keyframes spin {\n",
              "    0% {\n",
              "      border-color: transparent;\n",
              "      border-bottom-color: var(--fill-color);\n",
              "      border-left-color: var(--fill-color);\n",
              "    }\n",
              "    20% {\n",
              "      border-color: transparent;\n",
              "      border-left-color: var(--fill-color);\n",
              "      border-top-color: var(--fill-color);\n",
              "    }\n",
              "    30% {\n",
              "      border-color: transparent;\n",
              "      border-left-color: var(--fill-color);\n",
              "      border-top-color: var(--fill-color);\n",
              "      border-right-color: var(--fill-color);\n",
              "    }\n",
              "    40% {\n",
              "      border-color: transparent;\n",
              "      border-right-color: var(--fill-color);\n",
              "      border-top-color: var(--fill-color);\n",
              "    }\n",
              "    60% {\n",
              "      border-color: transparent;\n",
              "      border-right-color: var(--fill-color);\n",
              "    }\n",
              "    80% {\n",
              "      border-color: transparent;\n",
              "      border-right-color: var(--fill-color);\n",
              "      border-bottom-color: var(--fill-color);\n",
              "    }\n",
              "    90% {\n",
              "      border-color: transparent;\n",
              "      border-bottom-color: var(--fill-color);\n",
              "    }\n",
              "  }\n",
              "</style>\n",
              "\n",
              "  <script>\n",
              "    async function quickchart(key) {\n",
              "      const quickchartButtonEl =\n",
              "        document.querySelector('#' + key + ' button');\n",
              "      quickchartButtonEl.disabled = true;  // To prevent multiple clicks.\n",
              "      quickchartButtonEl.classList.add('colab-df-spinner');\n",
              "      try {\n",
              "        const charts = await google.colab.kernel.invokeFunction(\n",
              "            'suggestCharts', [key], {});\n",
              "      } catch (error) {\n",
              "        console.error('Error during call to suggestCharts:', error);\n",
              "      }\n",
              "      quickchartButtonEl.classList.remove('colab-df-spinner');\n",
              "      quickchartButtonEl.classList.add('colab-df-quickchart-complete');\n",
              "    }\n",
              "    (() => {\n",
              "      let quickchartButtonEl =\n",
              "        document.querySelector('#df-5a9bac9d-d5d5-41c4-8d43-ec07ae9faff4 button');\n",
              "      quickchartButtonEl.style.display =\n",
              "        google.colab.kernel.accessAllowed ? 'block' : 'none';\n",
              "    })();\n",
              "  </script>\n",
              "</div>\n",
              "\n",
              "    </div>\n",
              "  </div>\n"
            ],
            "application/vnd.google.colaboratory.intrinsic+json": {
              "type": "dataframe",
              "summary": "{\n  \"name\": \"pd\",\n  \"rows\": 6,\n  \"fields\": [\n    {\n      \"column\": \"Apr cos\",\n      \"properties\": {\n        \"dtype\": \"string\",\n        \"num_unique_values\": 5,\n        \"samples\": [\n          \"0.499996\",\n          \"0E+12\",\n          \"0.5\"\n        ],\n        \"semantic_type\": \"\",\n        \"description\": \"\"\n      }\n    },\n    {\n      \"column\": \"Apr sen\",\n      \"properties\": {\n        \"dtype\": \"string\",\n        \"num_unique_values\": 5,\n        \"samples\": [\n          \"0.4999958334\",\n          \"0.500\",\n          \"0.4999999584\"\n        ],\n        \"semantic_type\": \"\",\n        \"description\": \"\"\n      }\n    },\n    {\n      \"column\": \"Exacto cos\",\n      \"properties\": {\n        \"dtype\": \"number\",\n        \"std\": 0.0001742956714294585,\n        \"min\": 0.49958347219741783,\n        \"max\": 0.5000444502911705,\n        \"num_unique_values\": 6,\n        \"samples\": [\n          0.49958347219741783,\n          0.4999958333473664,\n          0.5000444502911705\n        ],\n        \"semantic_type\": \"\",\n        \"description\": \"\"\n      }\n    },\n    {\n      \"column\": \"Exacto sen\",\n      \"properties\": {\n        \"dtype\": \"number\",\n        \"std\": 0.00016971126458177485,\n        \"min\": 0.49958347219742344,\n        \"max\": 0.49999999999995826,\n        \"num_unique_values\": 6,\n        \"samples\": [\n          0.49958347219742344,\n          0.49999583334722214,\n          0.49999999999995826\n        ],\n        \"semantic_type\": \"\",\n        \"description\": \"\"\n      }\n    }\n  ]\n}"
            }
          },
          "metadata": {},
          "execution_count": 14
        }
      ],
      "source": [
        "res = []\n",
        "idx = []\n",
        "for i in range(1, 7):\n",
        "    x = 10**(-i)\n",
        "    idx.append(x)\n",
        "    res.append([f1d(+D(x)), f1da(+D(x)), f1(x), f1a(x)])\n",
        "cols = [\"Apr cos\", \"Apr sen\", \"Exacto cos\", \"Exacto sen\"]\n",
        "#pd.set_option(\"precision\", C().prec)\n",
        "pd.DataFrame(res, index=idx, columns=cols)\n"
      ]
    },
    {
      "cell_type": "markdown",
      "metadata": {
        "id": "IEySNOW0E4zu"
      },
      "source": [
        "### Ejemplo (más sutil)\n",
        "\n",
        "Evaluamos $e^{-5}$ usando la aproximación de Taylor\n",
        "$$e^{-5} \\approx 1 + \\frac{(-5)}{1!} + \\frac{(-5)^2}{2!} + \\frac{(-5)^3}{3!} + \\dots + \\frac{(-5)^n}{n!}$$\n",
        "\n",
        "Usando $n = 25$, el error es de\n",
        "$$\\left| \\frac{(-5)^{26}}{26!} e^c \\right| \\le 10^{-8}$$\n",
        "Lo valuamos con 4 digitos de precisión."
      ]
    },
    {
      "cell_type": "code",
      "execution_count": null,
      "metadata": {
        "colab": {
          "base_uri": "https://localhost:8080/"
        },
        "id": "K6NDjqC3E4zu",
        "outputId": "8e480ce0-b4a0-457d-b099-3149952efe1e"
      },
      "outputs": [
        {
          "output_type": "execute_result",
          "data": {
            "text/plain": [
              "(Decimal('0.009985'), Decimal('0.006738'), Decimal('-0.003247'))"
            ]
          },
          "metadata": {},
          "execution_count": 15
        }
      ],
      "source": [
        "from math import exp, factorial\n",
        "C().prec = 4\n",
        "res = +D(1)\n",
        "for i in range(1, 26):\n",
        "    res = res + (+D((-5)**i/factorial(i)))\n",
        "\n",
        "(res, +D(exp(-5)), +D(exp(-5)) - res)"
      ]
    },
    {
      "cell_type": "markdown",
      "metadata": {
        "id": "ymMtx3nrE4zv"
      },
      "source": [
        "Notamos la diferencia grande entre el resultado correcto 0.006738 y la aproximación 0.009985, con un error de -0.003247.\n",
        "\n",
        "Para entender el efecto analizamos el termino\n",
        "$$\\frac{(-5)^3}{3!} = - \\frac{125}{6} \\approx -20.83$$"
      ]
    },
    {
      "cell_type": "code",
      "execution_count": null,
      "metadata": {
        "colab": {
          "base_uri": "https://localhost:8080/"
        },
        "id": "jPOTd_wiE4zv",
        "outputId": "a0329d1a-898a-4139-eec1-5e0ca387648f"
      },
      "outputs": [
        {
          "output_type": "execute_result",
          "data": {
            "text/plain": [
              "(-20.833333333333332, Decimal('-20.83'), Decimal('-0.003333'))"
            ]
          },
          "metadata": {},
          "execution_count": 16
        }
      ],
      "source": [
        "term = (-5)**3 / factorial(3)\n",
        "aprox = +D(term)\n",
        "error = +D(term - float(aprox))\n",
        "(term, aprox, error)"
      ]
    },
    {
      "cell_type": "markdown",
      "metadata": {
        "id": "ERPS-6qCE4zv"
      },
      "source": [
        "Veamos que el error de -0.003333 es del mismo orden de magnitud que el resultado fínal de 0.006738.\n",
        "\n",
        "**Sumar (restar) terminos con un resultado mucho menor que los terminos individuales resulta en una perdida importante de significancia.**"
      ]
    },
    {
      "cell_type": "markdown",
      "metadata": {
        "id": "7RlAUD5iE4zv"
      },
      "source": [
        "## Underflow y Overflow\n",
        "Python permite tener números lo suficientemente grandes o chicos, alrededor de 16 cifras significativas. Por ejemplo, el valor flotante más largo que se puede ingresar es $10^{308}$. Este número suele ser suficiente para hacer física computacional, pero en ocasiones, no es suficiente. Si nos pasamos de este número, ocurre que la variable se sobresatura \"overflowed\" y Python nos regresará un valor \"inf\", llevando a errores numéricos graves o a que el código no pueda ser ejecutado.\n",
        "\n",
        "(Nota: Para números muy pequeños, como $2^{-1022}$)"
      ]
    },
    {
      "cell_type": "code",
      "execution_count": null,
      "metadata": {
        "colab": {
          "base_uri": "https://localhost:8080/"
        },
        "id": "MihtV7O-E4zw",
        "outputId": "f884c1ae-2f3b-43b7-a31d-70b8d992e24b"
      },
      "outputs": [
        {
          "output_type": "stream",
          "name": "stdout",
          "text": [
            "*El factorial entero es :\n",
            " 402387260077093773543702433923003985719374864210714632543799910429938512398629020592044208486969404800479988610197196058631666872994808558901323829669944590997424504087073759918823627727188732519779505950995276120874975462497043601418278094646496291056393887437886487337119181045825783647849977012476632889835955735432513185323958463075557409114262417474349347553428646576611667797396668820291207379143853719588249808126867838374559731746136085379534524221586593201928090878297308431392844403281231558611036976801357304216168747609675871348312025478589320767169132448426236131412508780208000261683151027341827977704784635868170164365024153691398281264810213092761244896359928705114964975419909342221566832572080821333186116811553615836546984046708975602900950537616475847728421889679646244945160765353408198901385442487984959953319101723355556602139450399736280750137837615307127761926849034352625200015888535147331611702103968175921510907788019393178114194545257223865541461062892187960223838971476088506276862967146674697562911234082439208160153780889893964518263243671616762179168909779911903754031274622289988005195444414282012187361745992642956581746628302955570299024324153181617210465832036786906117260158783520751516284225540265170483304226143974286933061690897968482590125458327168226458066526769958652682272807075781391858178889652208164348344825993266043367660176999612831860788386150279465955131156552036093988180612138558600301435694527224206344631797460594682573103790084024432438465657245014402821885252470935190620929023136493273497565513958720559654228749774011413346962715422845862377387538230483865688976461927383814900140767310446640259899490222221765904339901886018566526485061799702356193897017860040811889729918311021171229845901641921068884387121855646124960798722908519296819372388642614839657382291123125024186649353143970137428531926649875337218940694281434118520158014123344828015051399694290153483077644569099073152433278288269864602789864321139083506217095002597389863554277196742822248757586765752344220207573630569498825087968928162753848863396909959826280956121450994871701244516461260379029309120889086942028510640182154399457156805941872748998094254742173582401063677404595741785160829230135358081840096996372524230560855903700624271243416909004153690105933983835777939410970027753472000000000000000000000000000000000000000000000000000000000000000000000000000000000000000000000000000000000000000000000000000000000000000000000000000000000000000000000000000000000000000000000000000000000000000000000000000000000000000000000000000000\n",
            "**El factorial flotante es :\n",
            " inf\n"
          ]
        }
      ],
      "source": [
        "def factorial_entera(n):\n",
        "    multiplicacion=1 #Funcion entera\n",
        "    for i in range(1,n):\n",
        "        multiplicacion*=i\n",
        "    return multiplicacion\n",
        "def factorial_flotante(n):\n",
        "    multiplicacion=1.0 #Funcion flotante\n",
        "    for i in range(1,n):\n",
        "        multiplicacion*=i\n",
        "    return multiplicacion\n",
        "\n",
        "print('*El factorial entero es :\\n',factorial_entera(1000)) #200000\n",
        "print('**El factorial flotante es :\\n',factorial_flotante(174)) #overflow #171 límite Colab"
      ]
    },
    {
      "cell_type": "markdown",
      "metadata": {
        "id": "0gGsjHHPE4zx"
      },
      "source": [
        "### Ejercicio:\n",
        "Considera dos números\n",
        "$$x=1$$\n",
        "$$y=1+1\\times10^{-14}\\sqrt(2)$$\n",
        "\n",
        "Haz un programita en Python que calcule directamente\n",
        "$$\\sqrt(2)$$\n",
        "y\n",
        "$$\\sqrt(2)=1\\times10^{14}(y-x).$$\n",
        "¿Qué valor te da? ¿Cuál es el valor porcentual?"
      ]
    },
    {
      "cell_type": "code",
      "execution_count": null,
      "metadata": {
        "colab": {
          "base_uri": "https://localhost:8080/"
        },
        "id": "wplQOWOPE4zx",
        "outputId": "5110ab22-dd09-454e-bd99-7af9d87b1409"
      },
      "outputs": [
        {
          "output_type": "stream",
          "name": "stdout",
          "text": [
            "1.4210854715202004\n",
            "1.4142135623730951\n"
          ]
        }
      ],
      "source": [
        "#Ejercicio\n"
      ]
    }
  ],
  "metadata": {
    "kernelspec": {
      "display_name": "Python 3",
      "language": "python",
      "name": "python3"
    },
    "language_info": {
      "codemirror_mode": {
        "name": "ipython",
        "version": 3
      },
      "file_extension": ".py",
      "mimetype": "text/x-python",
      "name": "python",
      "nbconvert_exporter": "python",
      "pygments_lexer": "ipython3",
      "version": "3.8.3"
    },
    "colab": {
      "provenance": []
    }
  },
  "nbformat": 4,
  "nbformat_minor": 0
}