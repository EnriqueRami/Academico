{
  "nbformat": 4,
  "nbformat_minor": 0,
  "metadata": {
    "colab": {
      "provenance": []
    },
    "kernelspec": {
      "name": "python3",
      "display_name": "Python 3"
    },
    "language_info": {
      "name": "python"
    }
  },
  "cells": [
    {
      "cell_type": "code",
      "execution_count": null,
      "metadata": {
        "id": "RuF45nm-3Rj8"
      },
      "outputs": [],
      "source": [
        "def simpsion(f,a,b,N):\n",
        "  h=abs(b-a)/N\n",
        "  s_p,s_i=0,0\n",
        "  fa=f(a)\n",
        "  fb=f(b)\n",
        "  for k in range(2,N-1,2):#suma de pares.\n",
        "    s_p+=f(a+k*h)\n",
        "  for j in range(1,N,2): #suma de impares.\n",
        "    s_i+=f(a+j*h)\n",
        "  s=(h/3)*(fa+fb+4*s_p+2*s_i)\n",
        "  return s"
      ]
    },
    {
      "cell_type": "code",
      "source": [
        "f= lambda x: x**4-2*x+1\n",
        "print(simpsion(f,0,2,10000))"
      ],
      "metadata": {
        "colab": {
          "base_uri": "https://localhost:8080/"
        },
        "id": "PYFe5f6L_eo6",
        "outputId": "c3ea1640-8d41-450b-c137-b6a53b3b1c07"
      },
      "execution_count": null,
      "outputs": [
        {
          "output_type": "stream",
          "name": "stdout",
          "text": [
            "4.3990668799999995\n"
          ]
        }
      ]
    },
    {
      "cell_type": "code",
      "source": [
        "import random as r\n",
        "import math as m\n",
        "import numpy as np\n",
        "n_in= 0\n",
        "n=100000000\n",
        "for i in range(0,n):\n",
        "  x2=r.random()**2\n",
        "  y2=r.random()**2\n",
        "  if m.sqrt(x2 + y2) < 1.0:\n",
        "    n_in+=1\n",
        "L_cuadrado=2\n",
        "area=(n_in)/float(n)*L_cuadrado**2\n",
        "print(area)"
      ],
      "metadata": {
        "colab": {
          "base_uri": "https://localhost:8080/"
        },
        "id": "gly37Ljk_tMK",
        "outputId": "8602aa47-f967-41ae-96ab-edd29b63f6d4"
      },
      "execution_count": null,
      "outputs": [
        {
          "output_type": "stream",
          "name": "stdout",
          "text": [
            "3.14155488\n"
          ]
        }
      ]
    },
    {
      "cell_type": "code",
      "source": [
        "def hitmiss(f,a,b,c,d,N):\n",
        "  n_in= 0\n",
        "  n=10000000\n",
        "  for i in range(0,n):\n",
        "    x=r.uniform(a,b)\n",
        "    y=r.uniform(c,d)\n",
        "    if y<=f(x):\n",
        "      n_in+=1\n",
        "  area=abs(b-a)*abs(d-c)\n",
        "  hitmiss=((n_in*area)/n)\n",
        "  return hitmiss"
      ],
      "metadata": {
        "id": "yWDTGBrWK7ih"
      },
      "execution_count": null,
      "outputs": []
    },
    {
      "cell_type": "code",
      "source": [
        "f= lambda x: np.sin(1/(x*(2-x)))**2\n",
        "print(hitmiss(f,0,2,0,10,1000))"
      ],
      "metadata": {
        "colab": {
          "base_uri": "https://localhost:8080/"
        },
        "id": "Ryih5u5-OCuO",
        "outputId": "0acabfae-4d06-46e6-9b17-65c0d5466b0b"
      },
      "execution_count": null,
      "outputs": [
        {
          "output_type": "stream",
          "name": "stdout",
          "text": [
            "1.449492\n"
          ]
        }
      ]
    },
    {
      "cell_type": "code",
      "source": [
        "f= lambda x: x**4-2*x+1\n",
        "print(hitmiss(f,0,2,0,10,10000))"
      ],
      "metadata": {
        "colab": {
          "base_uri": "https://localhost:8080/"
        },
        "id": "pOiy4oEiOFcF",
        "outputId": "4fd0c252-dc38-4f61-8ffc-ca7a5a295706"
      },
      "execution_count": null,
      "outputs": [
        {
          "output_type": "stream",
          "name": "stdout",
          "text": [
            "2.438908\n"
          ]
        }
      ]
    },
    {
      "cell_type": "code",
      "source": [
        "def hit_miss(f,a,b,N):\n",
        "  n_in=0\n",
        "  x=np.random.uniform(a,b,N)\n",
        "  f_max=np.max(f(x))\n",
        "  y=np.random.uniform(0,f_max,N)\n",
        "  for i in range(0,N):\n",
        "    if y[i]<=f(x[i]):\n",
        "      n_in+=1\n",
        "  area=(b-a)*f_max\n",
        "  return area*n_in/N"
      ],
      "metadata": {
        "id": "8TkQLaw9TodB"
      },
      "execution_count": null,
      "outputs": []
    },
    {
      "cell_type": "code",
      "source": [
        "f= lambda x: x**4-2*x+1\n",
        "print(hit_miss(f,0,2,100))"
      ],
      "metadata": {
        "colab": {
          "base_uri": "https://localhost:8080/"
        },
        "id": "xn1W4ukxWJ-K",
        "outputId": "18984d9c-0fb2-4eff-a0c3-3e67d870c7be"
      },
      "execution_count": null,
      "outputs": [
        {
          "output_type": "stream",
          "name": "stdout",
          "text": [
            "5.3570631281044605\n"
          ]
        }
      ]
    },
    {
      "cell_type": "code",
      "source": [],
      "metadata": {
        "id": "IXP7oyofWOZ8"
      },
      "execution_count": null,
      "outputs": []
    }
  ]
}