{
  "nbformat": 4,
  "nbformat_minor": 0,
  "metadata": {
    "colab": {
      "provenance": []
    },
    "kernelspec": {
      "name": "python3",
      "display_name": "Python 3"
    },
    "language_info": {
      "name": "python"
    }
  },
  "cells": [
    {
      "cell_type": "code",
      "execution_count": null,
      "metadata": {
        "id": "HFRWyf0osGnw"
      },
      "outputs": [],
      "source": [
        "diccionario_pokemon={'1 era Evo' : {'charmarnder', 'squirtle', 'bulbasur'}, '2 era Evo': {'Charmeleon', 'Wartortle', 'ivysaur'}}"
      ]
    },
    {
      "cell_type": "code",
      "source": [
        "diccionario_pokemon['1 era Evo']"
      ],
      "metadata": {
        "colab": {
          "base_uri": "https://localhost:8080/"
        },
        "id": "31UAY9gzs7Ho",
        "outputId": "91ae055c-72a2-4f10-ff48-32b3dd20e48c"
      },
      "execution_count": null,
      "outputs": [
        {
          "output_type": "execute_result",
          "data": {
            "text/plain": [
              "{'bulbasur', 'charmarnder', 'squirtle'}"
            ]
          },
          "metadata": {},
          "execution_count": 6
        }
      ]
    },
    {
      "cell_type": "code",
      "source": [
        "diccionario_pokemon.values()"
      ],
      "metadata": {
        "colab": {
          "base_uri": "https://localhost:8080/"
        },
        "id": "NHxckEOktBX3",
        "outputId": "53d772ea-d603-4d79-dd33-d7a4c33f21ce"
      },
      "execution_count": null,
      "outputs": [
        {
          "output_type": "execute_result",
          "data": {
            "text/plain": [
              "dict_values([{'squirtle', 'bulbasur', 'charmarnder'}, {'Charmeleon', 'Wartortle', 'ivysaur'}])"
            ]
          },
          "metadata": {},
          "execution_count": 7
        }
      ]
    },
    {
      "cell_type": "code",
      "source": [
        "diccionario_pokemon['2 era Evo']"
      ],
      "metadata": {
        "colab": {
          "base_uri": "https://localhost:8080/"
        },
        "id": "B9_TzTmFta1W",
        "outputId": "92456506-c8a1-4262-e654-f68302b48760"
      },
      "execution_count": null,
      "outputs": [
        {
          "output_type": "execute_result",
          "data": {
            "text/plain": [
              "{'Charmeleon', 'Wartortle', 'ivysaur'}"
            ]
          },
          "metadata": {},
          "execution_count": 8
        }
      ]
    },
    {
      "cell_type": "code",
      "source": [
        "diccionario_banco={'Usuario':{'Enrique', 'Carlos', 'Laura'}, 'No.Cuenta': {'Enrique': '00001', 'Carlos': '00002', 'Laura': '00003'}}"
      ],
      "metadata": {
        "id": "9wrDUzl2teuo"
      },
      "execution_count": null,
      "outputs": []
    },
    {
      "cell_type": "code",
      "source": [
        "diccionario_banco['No.Cuenta']['Enrique']"
      ],
      "metadata": {
        "colab": {
          "base_uri": "https://localhost:8080/",
          "height": 34
        },
        "id": "PJ77wRWMuDeZ",
        "outputId": "e18a0368-a79d-4ef5-c4f0-a57e72f077f5"
      },
      "execution_count": null,
      "outputs": [
        {
          "output_type": "execute_result",
          "data": {
            "text/plain": [
              "'00001'"
            ],
            "application/vnd.google.colaboratory.intrinsic+json": {
              "type": "string"
            }
          },
          "metadata": {},
          "execution_count": 26
        }
      ]
    },
    {
      "cell_type": "code",
      "source": [
        "for Usuario in diccionario_banco['Usuario']:\n",
        "    print(Usuario, 'tiene la cuenta', diccionario_banco['No.Cuenta'][Usuario])"
      ],
      "metadata": {
        "colab": {
          "base_uri": "https://localhost:8080/"
        },
        "id": "yQvXi1yvuzmq",
        "outputId": "877f7bfe-9398-40fd-9ba7-456aace3e7a2"
      },
      "execution_count": null,
      "outputs": [
        {
          "output_type": "stream",
          "name": "stdout",
          "text": [
            "Carlos tiene la cuenta 00002\n",
            "Laura tiene la cuenta 00003\n",
            "Enrique tiene la cuenta 00001\n"
          ]
        }
      ]
    },
    {
      "cell_type": "code",
      "source": [
        "diccionario_pokemon['1 era Evo']=['charmarnder', 'squirtle', 'bulbasur', 'pikachu']"
      ],
      "metadata": {
        "id": "bIc-XBUUwqyw"
      },
      "execution_count": null,
      "outputs": []
    },
    {
      "cell_type": "code",
      "source": [
        "diccionario_pokemon"
      ],
      "metadata": {
        "colab": {
          "base_uri": "https://localhost:8080/"
        },
        "id": "-tzSxT6xxEaS",
        "outputId": "5a229480-fdfb-4342-d583-61524cde3341"
      },
      "execution_count": null,
      "outputs": [
        {
          "output_type": "execute_result",
          "data": {
            "text/plain": [
              "{'1 era Evo': ['charmarnder', 'squirtle', 'bulbasur', 'pikachu'],\n",
              " '2 era Evo': {'Charmeleon', 'Wartortle', 'ivysaur'}}"
            ]
          },
          "metadata": {},
          "execution_count": 32
        }
      ]
    },
    {
      "cell_type": "code",
      "source": [
        "Lista_frutas={'rojas': 'manzana', 'amarillas': 'pera', 'moradas':'uva'}\n",
        "comodin = Lista_frutas.copy()\n",
        "Lista_frutas.pop('rojas')\n",
        "Lista_frutas"
      ],
      "metadata": {
        "colab": {
          "base_uri": "https://localhost:8080/"
        },
        "id": "SVB9R8pixFlS",
        "outputId": "5e89ef3e-c6c9-452f-ab13-4f0de2da0963"
      },
      "execution_count": null,
      "outputs": [
        {
          "output_type": "execute_result",
          "data": {
            "text/plain": [
              "{'amarillas': 'pera', 'moradas': 'uva'}"
            ]
          },
          "metadata": {},
          "execution_count": 56
        }
      ]
    },
    {
      "cell_type": "code",
      "source": [
        "Lista_frutas"
      ],
      "metadata": {
        "colab": {
          "base_uri": "https://localhost:8080/"
        },
        "id": "V93c-WecyIwk",
        "outputId": "bf819654-ceac-4cb1-f34d-67b97747f39d"
      },
      "execution_count": null,
      "outputs": [
        {
          "output_type": "execute_result",
          "data": {
            "text/plain": [
              "{'amarillas': 'pera', 'moradas': 'uva'}"
            ]
          },
          "metadata": {},
          "execution_count": 57
        }
      ]
    },
    {
      "cell_type": "code",
      "source": [
        "comodin"
      ],
      "metadata": {
        "colab": {
          "base_uri": "https://localhost:8080/"
        },
        "id": "CzK2KSQ2ylAB",
        "outputId": "e8b312bf-9aa5-4490-c4e7-276e6b7a0b84"
      },
      "execution_count": null,
      "outputs": [
        {
          "output_type": "execute_result",
          "data": {
            "text/plain": [
              "{'rojas': 'manzana', 'amarillas': 'pera', 'moradas': 'uva'}"
            ]
          },
          "metadata": {},
          "execution_count": 58
        }
      ]
    },
    {
      "cell_type": "code",
      "source": [
        "id(comodin)"
      ],
      "metadata": {
        "colab": {
          "base_uri": "https://localhost:8080/"
        },
        "id": "jai6J685zVPZ",
        "outputId": "cd85f817-7245-413b-8cec-add4a9797d03"
      },
      "execution_count": null,
      "outputs": [
        {
          "output_type": "execute_result",
          "data": {
            "text/plain": [
              "134313348754496"
            ]
          },
          "metadata": {},
          "execution_count": 59
        }
      ]
    },
    {
      "cell_type": "code",
      "source": [
        "id(Lista_frutas)"
      ],
      "metadata": {
        "colab": {
          "base_uri": "https://localhost:8080/"
        },
        "id": "7w-rqx71zYe4",
        "outputId": "ade848e7-e183-4d65-fe9e-2b6121920c3a"
      },
      "execution_count": null,
      "outputs": [
        {
          "output_type": "execute_result",
          "data": {
            "text/plain": [
              "134313349895424"
            ]
          },
          "metadata": {},
          "execution_count": 60
        }
      ]
    },
    {
      "cell_type": "code",
      "source": [
        "tupla1=(1,2,3,4,5,6,7,8,9)"
      ],
      "metadata": {
        "id": "OSorNU_BzZz2"
      },
      "execution_count": null,
      "outputs": []
    },
    {
      "cell_type": "code",
      "source": [
        "type(tupla1)"
      ],
      "metadata": {
        "colab": {
          "base_uri": "https://localhost:8080/"
        },
        "id": "Y3O-ygCm0kOe",
        "outputId": "a8aea25e-b74a-431e-8ed2-cdec47374554"
      },
      "execution_count": null,
      "outputs": [
        {
          "output_type": "execute_result",
          "data": {
            "text/plain": [
              "tuple"
            ]
          },
          "metadata": {},
          "execution_count": 63
        }
      ]
    },
    {
      "cell_type": "code",
      "source": [
        "tupla1[0]"
      ],
      "metadata": {
        "colab": {
          "base_uri": "https://localhost:8080/"
        },
        "id": "inveaEJg0mh-",
        "outputId": "2011d392-9ac0-4112-f986-3459ed12e438"
      },
      "execution_count": null,
      "outputs": [
        {
          "output_type": "execute_result",
          "data": {
            "text/plain": [
              "1"
            ]
          },
          "metadata": {},
          "execution_count": 64
        }
      ]
    },
    {
      "cell_type": "code",
      "source": [
        "tupla2=(10,11,12,13,14,15,16,17,18)"
      ],
      "metadata": {
        "id": "RaU9NUVO0rxr"
      },
      "execution_count": null,
      "outputs": []
    },
    {
      "cell_type": "code",
      "source": [
        "tupla1+tupla2"
      ],
      "metadata": {
        "colab": {
          "base_uri": "https://localhost:8080/"
        },
        "id": "_0SZTrC40yL9",
        "outputId": "b0f8ba38-db42-41fa-dea2-af7a2d2a684a"
      },
      "execution_count": null,
      "outputs": [
        {
          "output_type": "execute_result",
          "data": {
            "text/plain": [
              "(1, 2, 3, 4, 5, 6, 7, 8, 9, 10, 11, 12, 13, 14, 15, 16, 17, 18)"
            ]
          },
          "metadata": {},
          "execution_count": 66
        }
      ]
    },
    {
      "cell_type": "code",
      "source": [
        "lista1=[1,2,3]\n",
        "lista2=[4,5,6]"
      ],
      "metadata": {
        "id": "KMz35dan0zQu"
      },
      "execution_count": null,
      "outputs": []
    },
    {
      "cell_type": "code",
      "source": [
        "lista1+lista2"
      ],
      "metadata": {
        "colab": {
          "base_uri": "https://localhost:8080/"
        },
        "id": "bNZNJm0007d-",
        "outputId": "28b924eb-b734-4019-f9fb-fae6434a2e5e"
      },
      "execution_count": null,
      "outputs": [
        {
          "output_type": "execute_result",
          "data": {
            "text/plain": [
              "[1, 2, 3, 4, 5, 6]"
            ]
          },
          "metadata": {},
          "execution_count": 68
        }
      ]
    },
    {
      "cell_type": "code",
      "source": [
        "tupla1[0]=True #no se puede cambiar elementos en las tuplas, en general no se pueden hacer modificaciones."
      ],
      "metadata": {
        "colab": {
          "base_uri": "https://localhost:8080/",
          "height": 141
        },
        "id": "ifZDlXzw09Bt",
        "outputId": "88ec4cfe-bc69-4592-c6c0-edcffb690bd1"
      },
      "execution_count": null,
      "outputs": [
        {
          "output_type": "error",
          "ename": "TypeError",
          "evalue": "'tuple' object does not support item assignment",
          "traceback": [
            "\u001b[0;31m---------------------------------------------------------------------------\u001b[0m",
            "\u001b[0;31mTypeError\u001b[0m                                 Traceback (most recent call last)",
            "\u001b[0;32m<ipython-input-73-1290d8c23c5a>\u001b[0m in \u001b[0;36m<cell line: 0>\u001b[0;34m()\u001b[0m\n\u001b[0;32m----> 1\u001b[0;31m \u001b[0mtupla1\u001b[0m\u001b[0;34m[\u001b[0m\u001b[0;36m0\u001b[0m\u001b[0;34m]\u001b[0m\u001b[0;34m=\u001b[0m\u001b[0;32mTrue\u001b[0m\u001b[0;34m\u001b[0m\u001b[0;34m\u001b[0m\u001b[0m\n\u001b[0m",
            "\u001b[0;31mTypeError\u001b[0m: 'tuple' object does not support item assignment"
          ]
        }
      ]
    },
    {
      "cell_type": "code",
      "source": [
        "lista1[0]=True"
      ],
      "metadata": {
        "id": "007RCAg41B3O"
      },
      "execution_count": null,
      "outputs": []
    },
    {
      "cell_type": "code",
      "source": [
        "lista1"
      ],
      "metadata": {
        "colab": {
          "base_uri": "https://localhost:8080/"
        },
        "id": "6npCe95H1Hh9",
        "outputId": "9171c709-7853-4758-d3ff-53bfc1461f0b"
      },
      "execution_count": null,
      "outputs": [
        {
          "output_type": "execute_result",
          "data": {
            "text/plain": [
              "[True, 2, 3]"
            ]
          },
          "metadata": {},
          "execution_count": 79
        }
      ]
    },
    {
      "cell_type": "markdown",
      "source": [
        "#Estructuras de control"
      ],
      "metadata": {
        "id": "F4ucCM3X5NYg"
      }
    },
    {
      "cell_type": "code",
      "source": [
        "lista_mascota=[] #lista vacia, se declara una vez afuera del proceso iterativo\n",
        "while True: #o 1\n",
        "  x1= input('Dame una mascota y si quieres terminar escribe salir: \\t')\n",
        "  x=x1.lower()\n",
        "  lista_mascota.append(x)\n",
        "  if x=='gato':\n",
        "    print('miau')\n",
        "  elif x=='perro':\n",
        "      print('guau')\n",
        "  elif x== 'loro':\n",
        "      print('loro')\n",
        "  elif x== 'tortuga':\n",
        "      print('tortuga')\n",
        "  elif x== 'salir':\n",
        "      break\n",
        "  else:\n",
        "      print('mascota no valida')"
      ],
      "metadata": {
        "colab": {
          "base_uri": "https://localhost:8080/"
        },
        "id": "CPnyiGVQ5IBD",
        "outputId": "548f8052-7ff7-419c-ddb8-d61b0c59ef56"
      },
      "execution_count": null,
      "outputs": [
        {
          "name": "stdout",
          "output_type": "stream",
          "text": [
            "Dame una mascota y si quieres terminar escribe salir: \tgato\n",
            "miau\n",
            "Dame una mascota y si quieres terminar escribe salir: \tperro\n",
            "guau\n",
            "Dame una mascota y si quieres terminar escribe salir: \ttortuga\n",
            "tortuga\n",
            "Dame una mascota y si quieres terminar escribe salir: \tsalir\n"
          ]
        }
      ]
    },
    {
      "cell_type": "code",
      "source": [
        "x1='GATO'\n",
        "x2=x1.lower()\n",
        "print(x2)\n",
        "x3=x1.upper()\n",
        "print(x3)\n",
        "x4=x1.capitalize()\n",
        "print(x4)"
      ],
      "metadata": {
        "colab": {
          "base_uri": "https://localhost:8080/"
        },
        "id": "YmpenkzI6Bym",
        "outputId": "f822e11e-1ce5-4e32-881d-19f902b6caa0"
      },
      "execution_count": null,
      "outputs": [
        {
          "output_type": "stream",
          "name": "stdout",
          "text": [
            "gato\n",
            "GATO\n",
            "Gato\n"
          ]
        }
      ]
    },
    {
      "cell_type": "code",
      "source": [
        "for i in lista_mascota:\n",
        "  print(i)"
      ],
      "metadata": {
        "colab": {
          "base_uri": "https://localhost:8080/"
        },
        "id": "irVdAXXnAWES",
        "outputId": "6d6b055c-ad1e-4b4e-b84d-759f5df0ee4a"
      },
      "execution_count": null,
      "outputs": [
        {
          "output_type": "stream",
          "name": "stdout",
          "text": [
            "gato\n",
            "perro\n",
            "tortuga\n",
            "salir\n"
          ]
        }
      ]
    },
    {
      "cell_type": "code",
      "source": [
        "for i in range(0,105,5):\n",
        "  print(i)"
      ],
      "metadata": {
        "colab": {
          "base_uri": "https://localhost:8080/"
        },
        "id": "AfmD2MpuAfLV",
        "outputId": "593bb221-22af-408a-debb-665aec6508de"
      },
      "execution_count": null,
      "outputs": [
        {
          "output_type": "stream",
          "name": "stdout",
          "text": [
            "0\n",
            "5\n",
            "10\n",
            "15\n",
            "20\n",
            "25\n",
            "30\n",
            "35\n",
            "40\n",
            "45\n",
            "50\n",
            "55\n",
            "60\n",
            "65\n",
            "70\n",
            "75\n",
            "80\n",
            "85\n",
            "90\n",
            "95\n",
            "100\n"
          ]
        }
      ]
    },
    {
      "cell_type": "code",
      "source": [
        "i=0\n",
        "while i<10:\n",
        "  i=i+1\n",
        "  print(i)"
      ],
      "metadata": {
        "colab": {
          "base_uri": "https://localhost:8080/"
        },
        "id": "u1bOYJcy7fGk",
        "outputId": "438cee7c-2e50-41da-c92d-51a56993df97"
      },
      "execution_count": null,
      "outputs": [
        {
          "output_type": "stream",
          "name": "stdout",
          "text": [
            "1\n",
            "2\n",
            "3\n",
            "4\n",
            "5\n",
            "6\n",
            "7\n",
            "8\n",
            "9\n",
            "10\n"
          ]
        }
      ]
    },
    {
      "cell_type": "code",
      "source": [
        "print(lista_mascota)"
      ],
      "metadata": {
        "colab": {
          "base_uri": "https://localhost:8080/"
        },
        "id": "G5mJQHeU9ZAM",
        "outputId": "c2a306e7-1c26-4a98-e0e5-a8fe3f5aa3e8"
      },
      "execution_count": null,
      "outputs": [
        {
          "output_type": "stream",
          "name": "stdout",
          "text": [
            "['gato', 'perro', 'tortuga', 'salir']\n"
          ]
        }
      ]
    },
    {
      "cell_type": "code",
      "source": [
        "#suma de gauss\n",
        "n=100\n",
        "suma=n*(n+1)/2 #formula directa de gauss\n",
        "print(suma)\n",
        "\n",
        "suma=0\n",
        "for i in range(1,101):\n",
        "  suma=suma+i #proceso iterativo\n",
        "print(suma)"
      ],
      "metadata": {
        "colab": {
          "base_uri": "https://localhost:8080/"
        },
        "id": "FvL-rNKk_YPz",
        "outputId": "da5bede6-4b41-437b-8457-20e707c5be62"
      },
      "execution_count": null,
      "outputs": [
        {
          "output_type": "stream",
          "name": "stdout",
          "text": [
            "5050.0\n",
            "5050\n"
          ]
        }
      ]
    },
    {
      "cell_type": "code",
      "source": [
        "#factorial entero o flotante\n",
        "n=int(input('Dame un numero entero para calcular el factorial: '))\n",
        "fac=1.0\n",
        "for i in range(1,n+1):\n",
        "  fac=fac*i\n",
        "print(fac)\n",
        "\n",
        "#si las operaciones son enteros 1558"
      ],
      "metadata": {
        "colab": {
          "base_uri": "https://localhost:8080/"
        },
        "id": "Ni0vrDxsBrrq",
        "outputId": "3660e57b-b343-454c-c78a-a091fd1a90c3"
      },
      "execution_count": null,
      "outputs": [
        {
          "output_type": "stream",
          "name": "stdout",
          "text": [
            "Dame un numero entero para calcular el factorial: 200\n",
            "inf\n"
          ]
        }
      ]
    },
    {
      "cell_type": "code",
      "source": [
        "def funcion(variable1, var2, var3):\n",
        "  y=variable1**2+var2**2+var3**2\n",
        "  print('Esta es la funcion 1')\n",
        "  return y"
      ],
      "metadata": {
        "id": "5UVtyKniCRkM"
      },
      "execution_count": null,
      "outputs": []
    },
    {
      "cell_type": "code",
      "source": [
        "print(funcion(1,1,1))"
      ],
      "metadata": {
        "colab": {
          "base_uri": "https://localhost:8080/"
        },
        "id": "hkO4GD-9EKlv",
        "outputId": "6b4b7edf-24ce-4197-d355-1b1c926aab84"
      },
      "execution_count": null,
      "outputs": [
        {
          "output_type": "stream",
          "name": "stdout",
          "text": [
            "Esta es la funcion 1\n",
            "3\n"
          ]
        }
      ]
    },
    {
      "cell_type": "code",
      "source": [
        "def f(x):\n",
        "  return x**2"
      ],
      "metadata": {
        "id": "l0zC8_RcEM7P"
      },
      "execution_count": null,
      "outputs": []
    },
    {
      "cell_type": "code",
      "source": [
        "def g(x):\n",
        "  return x+1"
      ],
      "metadata": {
        "id": "V_ncUcqeE5yx"
      },
      "execution_count": null,
      "outputs": []
    },
    {
      "cell_type": "code",
      "source": [
        "print(f(g(1)))"
      ],
      "metadata": {
        "colab": {
          "base_uri": "https://localhost:8080/"
        },
        "id": "I5wbV-TbE9ag",
        "outputId": "e8df2c1d-d4d2-4ba8-ef68-9c5555ebbe52"
      },
      "execution_count": null,
      "outputs": [
        {
          "output_type": "stream",
          "name": "stdout",
          "text": [
            "4\n"
          ]
        }
      ]
    },
    {
      "cell_type": "code",
      "source": [
        "def varios():\n",
        "  n=int(input('Dime cuantos elementos guardaras en la lista'))\n",
        "  lista=[]\n",
        "  for i in range(n):\n",
        "    x=float(input('Da el elemento %d '%i))\n",
        "    lista.append(x)\n",
        "  return lista"
      ],
      "metadata": {
        "id": "aSoQMGlrFfsg"
      },
      "execution_count": null,
      "outputs": []
    },
    {
      "cell_type": "code",
      "source": [
        "varios()"
      ],
      "metadata": {
        "colab": {
          "base_uri": "https://localhost:8080/"
        },
        "id": "pbvW4OjrGZ2X",
        "outputId": "581b7a9c-aa48-4e16-9321-4936d2ddc102"
      },
      "execution_count": null,
      "outputs": [
        {
          "name": "stdout",
          "output_type": "stream",
          "text": [
            "Dime cuantos elementos guardaras en la lista3\n",
            "Da el elemento 0 11\n"
          ]
        },
        {
          "output_type": "execute_result",
          "data": {
            "text/plain": [
              "[11.0]"
            ]
          },
          "metadata": {},
          "execution_count": 156
        }
      ]
    },
    {
      "cell_type": "code",
      "source": [
        "def promedio():\n",
        "  n=int(input('Dime cuantos elementos guardaras en la lista'))\n",
        "  lista=[]\n",
        "  suma=0\n",
        "  for i in range(n):\n",
        "    x=float(input('Da el elemento %d '%i))\n",
        "    suma=suma+x\n",
        "    lista.append(x)\n",
        "  return lista,suma/n"
      ],
      "metadata": {
        "id": "TNM2ne_SG51U"
      },
      "execution_count": null,
      "outputs": []
    },
    {
      "cell_type": "code",
      "source": [
        "promedio()"
      ],
      "metadata": {
        "colab": {
          "base_uri": "https://localhost:8080/"
        },
        "id": "oLABOtH5H4Z6",
        "outputId": "78d869bc-dc7c-4034-acff-52be59098b97"
      },
      "execution_count": null,
      "outputs": [
        {
          "name": "stdout",
          "output_type": "stream",
          "text": [
            "Dime cuantos elementos guardaras en la lista3\n",
            "Da el elemento 0 4\n",
            "Da el elemento 1 1\n",
            "Da el elemento 2 23\n"
          ]
        },
        {
          "output_type": "execute_result",
          "data": {
            "text/plain": [
              "([4.0, 1.0, 23.0], 9.333333333333334)"
            ]
          },
          "metadata": {},
          "execution_count": 163
        }
      ]
    },
    {
      "cell_type": "code",
      "source": [
        "def funprointer():\n",
        "  n=int(input('Dime cuantos elementos tiene el vector 1'))\n",
        "  m=int(input('Dime cuantos elementos tiene el vector 2'))\n",
        "  lista1=[]\n",
        "  lista2=[]\n",
        "  suma=0\n",
        "  for i in range(n):\n",
        "    x=float(input('Da el elemento %d '%i))\n",
        "    y=float(input('Da el elemento %d '%i))\n",
        "    suma=suma+x*y\n",
        "    lista1.append(x)\n",
        "    lista2.append(y)\n",
        "  return lista1, lista2, suma"
      ],
      "metadata": {
        "id": "ARhqRsK3H544"
      },
      "execution_count": null,
      "outputs": []
    },
    {
      "cell_type": "code",
      "source": [
        "funprointer()"
      ],
      "metadata": {
        "colab": {
          "base_uri": "https://localhost:8080/"
        },
        "id": "RIYjzNrmK-Zf",
        "outputId": "bfa25e54-92c7-4010-d1c8-4e706a643ee3"
      },
      "execution_count": null,
      "outputs": [
        {
          "name": "stdout",
          "output_type": "stream",
          "text": [
            "Dime cuantos elementos tiene el vector12\n",
            "Dime cuantos elementos tiene el vector22\n",
            "Da el elemento 0 1\n",
            "Da el elemento 0 1\n",
            "Da el elemento 1 2\n",
            "Da el elemento 1 2\n"
          ]
        },
        {
          "output_type": "execute_result",
          "data": {
            "text/plain": [
              "([1.0, 2.0], [1.0, 2.0], 5.0)"
            ]
          },
          "metadata": {},
          "execution_count": 181
        }
      ]
    },
    {
      "cell_type": "code",
      "source": [
        "import numpy"
      ],
      "metadata": {
        "id": "Z9jW7ZUkMZSH"
      },
      "execution_count": null,
      "outputs": []
    },
    {
      "cell_type": "code",
      "source": [
        "import numpy as np"
      ],
      "metadata": {
        "id": "DW0cZTgCRiFg"
      },
      "execution_count": null,
      "outputs": []
    },
    {
      "cell_type": "code",
      "source": [
        "from numpy import sin"
      ],
      "metadata": {
        "id": "56oFWE7jRlNw"
      },
      "execution_count": null,
      "outputs": []
    },
    {
      "cell_type": "code",
      "source": [
        "pip install numpy"
      ],
      "metadata": {
        "colab": {
          "base_uri": "https://localhost:8080/"
        },
        "id": "YeTh-8vTRzaG",
        "outputId": "a637abe3-7900-4d92-a396-318dabd154a1"
      },
      "execution_count": null,
      "outputs": [
        {
          "output_type": "stream",
          "name": "stdout",
          "text": [
            "Requirement already satisfied: numpy in /usr/local/lib/python3.11/dist-packages (1.26.4)\n"
          ]
        }
      ]
    },
    {
      "cell_type": "code",
      "source": [
        "lista=[1,2,3,4]\n",
        "v= np.array(lista)"
      ],
      "metadata": {
        "id": "IqX_CL3KR6Of"
      },
      "execution_count": null,
      "outputs": []
    },
    {
      "cell_type": "code",
      "source": [
        "type(v)"
      ],
      "metadata": {
        "colab": {
          "base_uri": "https://localhost:8080/"
        },
        "id": "OXJeyNq4SBBR",
        "outputId": "003637ad-0289-4711-9798-d89b7f65b3d1"
      },
      "execution_count": null,
      "outputs": [
        {
          "output_type": "execute_result",
          "data": {
            "text/plain": [
              "numpy.ndarray"
            ]
          },
          "metadata": {},
          "execution_count": 189
        }
      ]
    },
    {
      "cell_type": "code",
      "source": [
        "a=[1,2,3,4]\n",
        "b=[5,6,7,8]\n",
        "v1=np.array(a)\n",
        "v2=np.array(b)"
      ],
      "metadata": {
        "id": "4s4zqZOHSBhT"
      },
      "execution_count": null,
      "outputs": []
    },
    {
      "cell_type": "code",
      "source": [
        "a+b"
      ],
      "metadata": {
        "colab": {
          "base_uri": "https://localhost:8080/"
        },
        "id": "_RjV75w1Sazu",
        "outputId": "ea2274c3-85ca-4086-dc13-5b4cea962cde"
      },
      "execution_count": null,
      "outputs": [
        {
          "output_type": "execute_result",
          "data": {
            "text/plain": [
              "[1, 2, 3, 4, 5, 6, 7, 8]"
            ]
          },
          "metadata": {},
          "execution_count": 191
        }
      ]
    },
    {
      "cell_type": "code",
      "source": [
        "v1+v2"
      ],
      "metadata": {
        "colab": {
          "base_uri": "https://localhost:8080/"
        },
        "id": "ZseNSIDXSb4O",
        "outputId": "c37c8acf-8c2a-4eed-a8a5-6f1ff895d940"
      },
      "execution_count": null,
      "outputs": [
        {
          "output_type": "execute_result",
          "data": {
            "text/plain": [
              "array([ 6,  8, 10, 12])"
            ]
          },
          "metadata": {},
          "execution_count": 192
        }
      ]
    },
    {
      "cell_type": "code",
      "source": [
        "a*3"
      ],
      "metadata": {
        "colab": {
          "base_uri": "https://localhost:8080/"
        },
        "id": "5ac3FnInSdFl",
        "outputId": "9350cca6-b669-4bcc-9db0-9296cec18c82"
      },
      "execution_count": null,
      "outputs": [
        {
          "output_type": "execute_result",
          "data": {
            "text/plain": [
              "[1, 2, 3, 4, 1, 2, 3, 4, 1, 2, 3, 4]"
            ]
          },
          "metadata": {},
          "execution_count": 194
        }
      ]
    },
    {
      "cell_type": "code",
      "source": [
        "v1*3"
      ],
      "metadata": {
        "colab": {
          "base_uri": "https://localhost:8080/"
        },
        "id": "oVP_JHu_ShRP",
        "outputId": "fb413b0b-c362-464c-e5c6-e010b98e3e55"
      },
      "execution_count": null,
      "outputs": [
        {
          "output_type": "execute_result",
          "data": {
            "text/plain": [
              "array([ 3,  6,  9, 12])"
            ]
          },
          "metadata": {},
          "execution_count": 195
        }
      ]
    },
    {
      "cell_type": "code",
      "source": [
        "lista_de_listas=[[1,2,3],[4,5,6], [7,8,9]]"
      ],
      "metadata": {
        "id": "jdBwQWaLSjo0"
      },
      "execution_count": null,
      "outputs": []
    },
    {
      "cell_type": "code",
      "source": [
        "lista_de_listas"
      ],
      "metadata": {
        "colab": {
          "base_uri": "https://localhost:8080/"
        },
        "id": "wLolQWFuSuxR",
        "outputId": "47ece32f-1af0-45d4-bb2d-9f9949c4ebe7"
      },
      "execution_count": null,
      "outputs": [
        {
          "output_type": "execute_result",
          "data": {
            "text/plain": [
              "[[1, 2, 3], [4, 5, 6], [7, 8, 9]]"
            ]
          },
          "metadata": {},
          "execution_count": 201
        }
      ]
    },
    {
      "cell_type": "code",
      "source": [
        "matriz=np.array(lista_de_listas)"
      ],
      "metadata": {
        "id": "pkHzB7ZqSv3w"
      },
      "execution_count": null,
      "outputs": []
    },
    {
      "cell_type": "code",
      "source": [
        "matriz"
      ],
      "metadata": {
        "colab": {
          "base_uri": "https://localhost:8080/"
        },
        "id": "fqxsh1QWS0gU",
        "outputId": "8d8c4d1a-a886-483c-d1e1-83222fe376cc"
      },
      "execution_count": null,
      "outputs": [
        {
          "output_type": "execute_result",
          "data": {
            "text/plain": [
              "array([[1, 2, 3],\n",
              "       [4, 5, 6],\n",
              "       [7, 8, 9]])"
            ]
          },
          "metadata": {},
          "execution_count": 203
        }
      ]
    },
    {
      "cell_type": "code",
      "source": [
        "identidad= np.array([[1,0,0],[0,1,0],[0,0,1]])"
      ],
      "metadata": {
        "id": "raLAVJ2PS15g"
      },
      "execution_count": null,
      "outputs": []
    },
    {
      "cell_type": "code",
      "source": [
        "def prod_matrices(M1,M2):"
      ],
      "metadata": {
        "colab": {
          "base_uri": "https://localhost:8080/"
        },
        "id": "L0tgfhh5TBYf",
        "outputId": "ceedf0c6-4c13-406d-f0ec-ea20fb5a90e9"
      },
      "execution_count": null,
      "outputs": [
        {
          "output_type": "execute_result",
          "data": {
            "text/plain": [
              "array([[1, 0, 0],\n",
              "       [0, 5, 0],\n",
              "       [0, 0, 9]])"
            ]
          },
          "metadata": {},
          "execution_count": 206
        }
      ]
    },
    {
      "cell_type": "code",
      "source": [],
      "metadata": {
        "id": "25W2JBcfTJvg"
      },
      "execution_count": null,
      "outputs": []
    }
  ]
}