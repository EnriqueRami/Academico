{
  "nbformat": 4,
  "nbformat_minor": 0,
  "metadata": {
    "colab": {
      "provenance": []
    },
    "kernelspec": {
      "name": "python3",
      "display_name": "Python 3"
    },
    "language_info": {
      "name": "python"
    }
  },
  "cells": [
    {
      "cell_type": "markdown",
      "source": [
        "#Errores en metodos numericos"
      ],
      "metadata": {
        "id": "14iqAz94v6ZY"
      }
    },
    {
      "cell_type": "code",
      "execution_count": null,
      "metadata": {
        "id": "BsCAY87lvtXo",
        "outputId": "6d83cdec-cf1e-4161-db64-2f06d298a2f4",
        "colab": {
          "base_uri": "https://localhost:8080/"
        }
      },
      "outputs": [
        {
          "output_type": "stream",
          "name": "stdout",
          "text": [
            "El promedio resultante es: \n",
            " 2.143056674785096e+28 +- 1.966351287687954\n"
          ]
        }
      ],
      "source": [
        "from random import * #importar la libreria de pseudoaleatorios\n",
        "l=[]\n",
        "for i in range(100):\n",
        "  x=uniform(0.8,2.8) #valores aleatorios float en el intervalo\n",
        "  l.append(x)\n",
        "\n",
        "n=len(l)\n",
        "suma=0\n",
        "for i in range(n):\n",
        "  suma+=suma+l[i]\n",
        "promedio=suma/n\n",
        "\n",
        "error=max(l)-min(l)\n",
        "print('El promedio resultante es: \\n', promedio, '+-', error)"
      ]
    },
    {
      "cell_type": "code",
      "source": [
        "from math import *\n",
        "def error_abs(real,approx):\n",
        "    return abs(real-approx)#valor absoluto\n",
        "def error_rel(real,approx):\n",
        "    return (abs(real-approx))/real\n",
        "def error_por(real,approx):\n",
        "    return ((abs(real-approx))/real)*100\n",
        "\n",
        "x_teo=e\n",
        "x_aprox=19/7\n",
        "\n",
        "e_abs=error_abs(x_teo,x_aprox)\n",
        "e_rel=error_rel(x_teo,x_aprox)\n",
        "e_por=error_por(x_teo,x_aprox)\n",
        "\n",
        "print('El error absoluto es: %5.4f'%e )"
      ],
      "metadata": {
        "id": "juvdmQGPxEHq",
        "colab": {
          "base_uri": "https://localhost:8080/"
        },
        "outputId": "7afa833d-c457-46d9-c167-9ab0397b1aab"
      },
      "execution_count": null,
      "outputs": [
        {
          "output_type": "stream",
          "name": "stdout",
          "text": [
            "El error absoluto es: 2.7183\n"
          ]
        }
      ]
    },
    {
      "cell_type": "code",
      "source": [
        "x=1.1+2.2\n",
        "if x==3.3:\n",
        "  print(x)\n",
        "else:\n",
        "  print('x disinto a 3.3')\n",
        "print(x)"
      ],
      "metadata": {
        "colab": {
          "base_uri": "https://localhost:8080/"
        },
        "id": "HhqZ1iDw2mmg",
        "outputId": "35363035-0cc6-446a-d686-c86d15435300"
      },
      "execution_count": null,
      "outputs": [
        {
          "output_type": "stream",
          "name": "stdout",
          "text": [
            "x disinto a 3.3\n",
            "3.3000000000000003\n"
          ]
        }
      ]
    },
    {
      "cell_type": "code",
      "source": [
        "x=1.1+2.2\n",
        "epsilon=1e-12\n",
        "if abs(x-3.3)<epsilon:\n",
        "    print(x)"
      ],
      "metadata": {
        "colab": {
          "base_uri": "https://localhost:8080/"
        },
        "id": "PmceaOa4317j",
        "outputId": "b09fe8d3-7831-4362-d233-70e19c44b02f"
      },
      "execution_count": null,
      "outputs": [
        {
          "output_type": "stream",
          "name": "stdout",
          "text": [
            "3.3000000000000003\n"
          ]
        }
      ]
    },
    {
      "cell_type": "code",
      "source": [
        "from decimal import getcontext,Decimal\n",
        "from math import sqrt,exp\n",
        "print(1/7)\n",
        "getcontext().prec=6\n",
        "print(Decimal(1)/Decimal(7))\n",
        "getcontext().prec=60\n",
        "print(1/7)\n",
        "print(Decimal(1)/Decimal(7))\n",
        "print(getcontext().sqrt(Decimal(2)))\n",
        "print(Decimal(pi))"
      ],
      "metadata": {
        "colab": {
          "base_uri": "https://localhost:8080/"
        },
        "id": "EstaoHCJ4vjl",
        "outputId": "41e10079-c045-4ec9-da23-3383db3c39ac"
      },
      "execution_count": null,
      "outputs": [
        {
          "output_type": "stream",
          "name": "stdout",
          "text": [
            "0.14285714285714285\n",
            "0.142857\n",
            "0.14285714285714285\n",
            "0.142857142857142857142857142857142857142857142857142857142857\n",
            "1.41421356237309504880168872420969807856967187537694807317668\n",
            "3.141592653589793115997963468544185161590576171875\n"
          ]
        }
      ]
    },
    {
      "cell_type": "code",
      "source": [
        "from decimal import Decimal as D, getcontext as C\n",
        "import pandas as pd\n",
        "from math import sqrt\n",
        "\n",
        "C().prec=6\n",
        "\n",
        "def f(x):\n",
        "    return x * (sqrt(x+1)-sqrt(x))\n",
        "def fd(x):\n",
        "    return x*(C().sqrt(x+D(1))-C().sqrt(x))\n",
        "\n",
        "residuo=[]\n",
        "idx=[]\n",
        "for i in range(10):\n",
        "    x=10**i\n",
        "    idx.append(x)\n",
        "    residuo.append([fd(D(x)), f(x)])\n",
        "\n",
        "cols=[\"Aprox\", \"Real\"]\n",
        "pd.DataFrame(residuo, index=idx,columns=cols)\n"
      ],
      "metadata": {
        "colab": {
          "base_uri": "https://localhost:8080/",
          "height": 363
        },
        "id": "CesmhoKC627j",
        "outputId": "411ef0b7-87a7-4bb8-d97c-ace3c533ed6a"
      },
      "execution_count": null,
      "outputs": [
        {
          "output_type": "execute_result",
          "data": {
            "text/plain": [
              "              Aprox          Real\n",
              "1           0.41421      0.414214\n",
              "10          1.54340      1.543471\n",
              "100          4.9900      4.987562\n",
              "1000        15.8000     15.807437\n",
              "10000        50.000     49.998750\n",
              "100000      100.000    158.113488\n",
              "1000000           0    499.999875\n",
              "10000000       0.00   1581.138790\n",
              "100000000         0   5000.000056\n",
              "1000000000      0.0  15811.390767"
            ],
            "text/html": [
              "\n",
              "  <div id=\"df-c6e3bdbe-26d2-408a-b7d7-be530e24bc74\" class=\"colab-df-container\">\n",
              "    <div>\n",
              "<style scoped>\n",
              "    .dataframe tbody tr th:only-of-type {\n",
              "        vertical-align: middle;\n",
              "    }\n",
              "\n",
              "    .dataframe tbody tr th {\n",
              "        vertical-align: top;\n",
              "    }\n",
              "\n",
              "    .dataframe thead th {\n",
              "        text-align: right;\n",
              "    }\n",
              "</style>\n",
              "<table border=\"1\" class=\"dataframe\">\n",
              "  <thead>\n",
              "    <tr style=\"text-align: right;\">\n",
              "      <th></th>\n",
              "      <th>Aprox</th>\n",
              "      <th>Real</th>\n",
              "    </tr>\n",
              "  </thead>\n",
              "  <tbody>\n",
              "    <tr>\n",
              "      <th>1</th>\n",
              "      <td>0.41421</td>\n",
              "      <td>0.414214</td>\n",
              "    </tr>\n",
              "    <tr>\n",
              "      <th>10</th>\n",
              "      <td>1.54340</td>\n",
              "      <td>1.543471</td>\n",
              "    </tr>\n",
              "    <tr>\n",
              "      <th>100</th>\n",
              "      <td>4.9900</td>\n",
              "      <td>4.987562</td>\n",
              "    </tr>\n",
              "    <tr>\n",
              "      <th>1000</th>\n",
              "      <td>15.8000</td>\n",
              "      <td>15.807437</td>\n",
              "    </tr>\n",
              "    <tr>\n",
              "      <th>10000</th>\n",
              "      <td>50.000</td>\n",
              "      <td>49.998750</td>\n",
              "    </tr>\n",
              "    <tr>\n",
              "      <th>100000</th>\n",
              "      <td>100.000</td>\n",
              "      <td>158.113488</td>\n",
              "    </tr>\n",
              "    <tr>\n",
              "      <th>1000000</th>\n",
              "      <td>0</td>\n",
              "      <td>499.999875</td>\n",
              "    </tr>\n",
              "    <tr>\n",
              "      <th>10000000</th>\n",
              "      <td>0.00</td>\n",
              "      <td>1581.138790</td>\n",
              "    </tr>\n",
              "    <tr>\n",
              "      <th>100000000</th>\n",
              "      <td>0</td>\n",
              "      <td>5000.000056</td>\n",
              "    </tr>\n",
              "    <tr>\n",
              "      <th>1000000000</th>\n",
              "      <td>0.0</td>\n",
              "      <td>15811.390767</td>\n",
              "    </tr>\n",
              "  </tbody>\n",
              "</table>\n",
              "</div>\n",
              "    <div class=\"colab-df-buttons\">\n",
              "\n",
              "  <div class=\"colab-df-container\">\n",
              "    <button class=\"colab-df-convert\" onclick=\"convertToInteractive('df-c6e3bdbe-26d2-408a-b7d7-be530e24bc74')\"\n",
              "            title=\"Convert this dataframe to an interactive table.\"\n",
              "            style=\"display:none;\">\n",
              "\n",
              "  <svg xmlns=\"http://www.w3.org/2000/svg\" height=\"24px\" viewBox=\"0 -960 960 960\">\n",
              "    <path d=\"M120-120v-720h720v720H120Zm60-500h600v-160H180v160Zm220 220h160v-160H400v160Zm0 220h160v-160H400v160ZM180-400h160v-160H180v160Zm440 0h160v-160H620v160ZM180-180h160v-160H180v160Zm440 0h160v-160H620v160Z\"/>\n",
              "  </svg>\n",
              "    </button>\n",
              "\n",
              "  <style>\n",
              "    .colab-df-container {\n",
              "      display:flex;\n",
              "      gap: 12px;\n",
              "    }\n",
              "\n",
              "    .colab-df-convert {\n",
              "      background-color: #E8F0FE;\n",
              "      border: none;\n",
              "      border-radius: 50%;\n",
              "      cursor: pointer;\n",
              "      display: none;\n",
              "      fill: #1967D2;\n",
              "      height: 32px;\n",
              "      padding: 0 0 0 0;\n",
              "      width: 32px;\n",
              "    }\n",
              "\n",
              "    .colab-df-convert:hover {\n",
              "      background-color: #E2EBFA;\n",
              "      box-shadow: 0px 1px 2px rgba(60, 64, 67, 0.3), 0px 1px 3px 1px rgba(60, 64, 67, 0.15);\n",
              "      fill: #174EA6;\n",
              "    }\n",
              "\n",
              "    .colab-df-buttons div {\n",
              "      margin-bottom: 4px;\n",
              "    }\n",
              "\n",
              "    [theme=dark] .colab-df-convert {\n",
              "      background-color: #3B4455;\n",
              "      fill: #D2E3FC;\n",
              "    }\n",
              "\n",
              "    [theme=dark] .colab-df-convert:hover {\n",
              "      background-color: #434B5C;\n",
              "      box-shadow: 0px 1px 3px 1px rgba(0, 0, 0, 0.15);\n",
              "      filter: drop-shadow(0px 1px 2px rgba(0, 0, 0, 0.3));\n",
              "      fill: #FFFFFF;\n",
              "    }\n",
              "  </style>\n",
              "\n",
              "    <script>\n",
              "      const buttonEl =\n",
              "        document.querySelector('#df-c6e3bdbe-26d2-408a-b7d7-be530e24bc74 button.colab-df-convert');\n",
              "      buttonEl.style.display =\n",
              "        google.colab.kernel.accessAllowed ? 'block' : 'none';\n",
              "\n",
              "      async function convertToInteractive(key) {\n",
              "        const element = document.querySelector('#df-c6e3bdbe-26d2-408a-b7d7-be530e24bc74');\n",
              "        const dataTable =\n",
              "          await google.colab.kernel.invokeFunction('convertToInteractive',\n",
              "                                                    [key], {});\n",
              "        if (!dataTable) return;\n",
              "\n",
              "        const docLinkHtml = 'Like what you see? Visit the ' +\n",
              "          '<a target=\"_blank\" href=https://colab.research.google.com/notebooks/data_table.ipynb>data table notebook</a>'\n",
              "          + ' to learn more about interactive tables.';\n",
              "        element.innerHTML = '';\n",
              "        dataTable['output_type'] = 'display_data';\n",
              "        await google.colab.output.renderOutput(dataTable, element);\n",
              "        const docLink = document.createElement('div');\n",
              "        docLink.innerHTML = docLinkHtml;\n",
              "        element.appendChild(docLink);\n",
              "      }\n",
              "    </script>\n",
              "  </div>\n",
              "\n",
              "\n",
              "<div id=\"df-6e126061-c585-41cf-9578-f3dd64fa385d\">\n",
              "  <button class=\"colab-df-quickchart\" onclick=\"quickchart('df-6e126061-c585-41cf-9578-f3dd64fa385d')\"\n",
              "            title=\"Suggest charts\"\n",
              "            style=\"display:none;\">\n",
              "\n",
              "<svg xmlns=\"http://www.w3.org/2000/svg\" height=\"24px\"viewBox=\"0 0 24 24\"\n",
              "     width=\"24px\">\n",
              "    <g>\n",
              "        <path d=\"M19 3H5c-1.1 0-2 .9-2 2v14c0 1.1.9 2 2 2h14c1.1 0 2-.9 2-2V5c0-1.1-.9-2-2-2zM9 17H7v-7h2v7zm4 0h-2V7h2v10zm4 0h-2v-4h2v4z\"/>\n",
              "    </g>\n",
              "</svg>\n",
              "  </button>\n",
              "\n",
              "<style>\n",
              "  .colab-df-quickchart {\n",
              "      --bg-color: #E8F0FE;\n",
              "      --fill-color: #1967D2;\n",
              "      --hover-bg-color: #E2EBFA;\n",
              "      --hover-fill-color: #174EA6;\n",
              "      --disabled-fill-color: #AAA;\n",
              "      --disabled-bg-color: #DDD;\n",
              "  }\n",
              "\n",
              "  [theme=dark] .colab-df-quickchart {\n",
              "      --bg-color: #3B4455;\n",
              "      --fill-color: #D2E3FC;\n",
              "      --hover-bg-color: #434B5C;\n",
              "      --hover-fill-color: #FFFFFF;\n",
              "      --disabled-bg-color: #3B4455;\n",
              "      --disabled-fill-color: #666;\n",
              "  }\n",
              "\n",
              "  .colab-df-quickchart {\n",
              "    background-color: var(--bg-color);\n",
              "    border: none;\n",
              "    border-radius: 50%;\n",
              "    cursor: pointer;\n",
              "    display: none;\n",
              "    fill: var(--fill-color);\n",
              "    height: 32px;\n",
              "    padding: 0;\n",
              "    width: 32px;\n",
              "  }\n",
              "\n",
              "  .colab-df-quickchart:hover {\n",
              "    background-color: var(--hover-bg-color);\n",
              "    box-shadow: 0 1px 2px rgba(60, 64, 67, 0.3), 0 1px 3px 1px rgba(60, 64, 67, 0.15);\n",
              "    fill: var(--button-hover-fill-color);\n",
              "  }\n",
              "\n",
              "  .colab-df-quickchart-complete:disabled,\n",
              "  .colab-df-quickchart-complete:disabled:hover {\n",
              "    background-color: var(--disabled-bg-color);\n",
              "    fill: var(--disabled-fill-color);\n",
              "    box-shadow: none;\n",
              "  }\n",
              "\n",
              "  .colab-df-spinner {\n",
              "    border: 2px solid var(--fill-color);\n",
              "    border-color: transparent;\n",
              "    border-bottom-color: var(--fill-color);\n",
              "    animation:\n",
              "      spin 1s steps(1) infinite;\n",
              "  }\n",
              "\n",
              "  @keyframes spin {\n",
              "    0% {\n",
              "      border-color: transparent;\n",
              "      border-bottom-color: var(--fill-color);\n",
              "      border-left-color: var(--fill-color);\n",
              "    }\n",
              "    20% {\n",
              "      border-color: transparent;\n",
              "      border-left-color: var(--fill-color);\n",
              "      border-top-color: var(--fill-color);\n",
              "    }\n",
              "    30% {\n",
              "      border-color: transparent;\n",
              "      border-left-color: var(--fill-color);\n",
              "      border-top-color: var(--fill-color);\n",
              "      border-right-color: var(--fill-color);\n",
              "    }\n",
              "    40% {\n",
              "      border-color: transparent;\n",
              "      border-right-color: var(--fill-color);\n",
              "      border-top-color: var(--fill-color);\n",
              "    }\n",
              "    60% {\n",
              "      border-color: transparent;\n",
              "      border-right-color: var(--fill-color);\n",
              "    }\n",
              "    80% {\n",
              "      border-color: transparent;\n",
              "      border-right-color: var(--fill-color);\n",
              "      border-bottom-color: var(--fill-color);\n",
              "    }\n",
              "    90% {\n",
              "      border-color: transparent;\n",
              "      border-bottom-color: var(--fill-color);\n",
              "    }\n",
              "  }\n",
              "</style>\n",
              "\n",
              "  <script>\n",
              "    async function quickchart(key) {\n",
              "      const quickchartButtonEl =\n",
              "        document.querySelector('#' + key + ' button');\n",
              "      quickchartButtonEl.disabled = true;  // To prevent multiple clicks.\n",
              "      quickchartButtonEl.classList.add('colab-df-spinner');\n",
              "      try {\n",
              "        const charts = await google.colab.kernel.invokeFunction(\n",
              "            'suggestCharts', [key], {});\n",
              "      } catch (error) {\n",
              "        console.error('Error during call to suggestCharts:', error);\n",
              "      }\n",
              "      quickchartButtonEl.classList.remove('colab-df-spinner');\n",
              "      quickchartButtonEl.classList.add('colab-df-quickchart-complete');\n",
              "    }\n",
              "    (() => {\n",
              "      let quickchartButtonEl =\n",
              "        document.querySelector('#df-6e126061-c585-41cf-9578-f3dd64fa385d button');\n",
              "      quickchartButtonEl.style.display =\n",
              "        google.colab.kernel.accessAllowed ? 'block' : 'none';\n",
              "    })();\n",
              "  </script>\n",
              "</div>\n",
              "\n",
              "    </div>\n",
              "  </div>\n"
            ],
            "application/vnd.google.colaboratory.intrinsic+json": {
              "type": "dataframe",
              "summary": "{\n  \"name\": \"pd\",\n  \"rows\": 10,\n  \"fields\": [\n    {\n      \"column\": \"Aprox\",\n      \"properties\": {\n        \"dtype\": \"string\",\n        \"num_unique_values\": 7,\n        \"samples\": [\n          \"0.41421\",\n          \"1.54340\",\n          \"100.000\"\n        ],\n        \"semantic_type\": \"\",\n        \"description\": \"\"\n      }\n    },\n    {\n      \"column\": \"Real\",\n      \"properties\": {\n        \"dtype\": \"number\",\n        \"std\": 4992.313185190596,\n        \"min\": 0.41421356237309515,\n        \"max\": 15811.390767339617,\n        \"num_unique_values\": 10,\n        \"samples\": [\n          5000.000055588316,\n          1.5434713018702029,\n          158.1134877255863\n        ],\n        \"semantic_type\": \"\",\n        \"description\": \"\"\n      }\n    }\n  ]\n}"
            }
          },
          "metadata": {},
          "execution_count": 17
        }
      ]
    },
    {
      "cell_type": "code",
      "source": [
        "from decimal import Decimal as D, getcontext as C\n",
        "import pandas as pd\n",
        "from math import sqrt,cos\n",
        "\n",
        "1-cos(x)/x^2\n"
      ],
      "metadata": {
        "id": "BfD4w4moAKgX"
      },
      "execution_count": null,
      "outputs": []
    },
    {
      "cell_type": "code",
      "source": [
        "# Incremental Search\n",
        "\n",
        "def incremental(f,a,b,dx):\n",
        "\n",
        "  x0=a\n",
        "  f0=f(x0)\n",
        "  x1=x0+dx\n",
        "  f1=f(x1)\n",
        "  contador= 0\n",
        "\n",
        "  while f0*f1>0:\n",
        "    if x1 >= b:\n",
        "      return 'No se encontraron raíces en el intervalo dado'\n",
        "\n",
        "    else:\n",
        "\n",
        "      x0=x1\n",
        "      f0=f1\n",
        "      x1=x0+dx\n",
        "      f1=f(x1)\n",
        "      contador += 1\n",
        "\n",
        "  return x0,x1,contador\n"
      ],
      "metadata": {
        "id": "MHEIzBc3DTgQ"
      },
      "execution_count": null,
      "outputs": []
    },
    {
      "cell_type": "code",
      "source": [],
      "metadata": {
        "id": "74AxfRUOMQqv"
      },
      "execution_count": null,
      "outputs": []
    }
  ]
}