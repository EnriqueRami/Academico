{
  "cells": [
    {
      "cell_type": "markdown",
      "metadata": {
        "id": "gLbEhOth5K4T"
      },
      "source": [
        "## Metodo de bisección"
      ]
    },
    {
      "cell_type": "code",
      "execution_count": null,
      "metadata": {
        "colab": {
          "background_save": true,
          "base_uri": "https://localhost:8080/"
        },
        "id": "xU46l8pz6hvH",
        "outputId": "16836799-bb3a-487d-9ad6-058a30ed0ce7"
      },
      "outputs": [
        {
          "name": "stdout",
          "output_type": "stream",
          "text": [
            "(0.8, 1)\n"
          ]
        }
      ],
      "source": [
        "# biseccion\n",
        "\n",
        "def biseccion(f,a,b,epsilon=1e-6):\n",
        "\n",
        "  x0=a\n",
        "  x1=b\n",
        "  n=0\n",
        "  while abs(x0-x1)>epsilon:\n",
        "    x2=(x0+x1)/2\n",
        "    n=n+1\n",
        "    if f(x0)*f(x2)<0:\n",
        "      x1=x2\n",
        "    elif f(x1)*f(x2)<0:\n",
        "      x0=x2\n",
        "    return x1,n\n",
        "\n",
        "f=lambda x: x**3-10*x**2+5\n",
        "print(biseccion(f,0,0.8,1e-10))"
      ]
    },
    {
      "cell_type": "code",
      "execution_count": null,
      "metadata": {
        "id": "d1Os0exCMAT1"
      },
      "outputs": [],
      "source": []
    }
  ],
  "metadata": {
    "colab": {
      "provenance": []
    },
    "kernelspec": {
      "display_name": "Python 3",
      "name": "python3"
    },
    "language_info": {
      "name": "python"
    }
  },
  "nbformat": 4,
  "nbformat_minor": 0
}