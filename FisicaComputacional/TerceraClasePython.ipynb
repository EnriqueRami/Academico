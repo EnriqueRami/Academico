{
  "cells": [
    {
      "cell_type": "markdown",
      "metadata": {
        "id": "9mji7NdFAaul"
      },
      "source": [
        "#Numpy"
      ]
    },
    {
      "cell_type": "code",
      "execution_count": null,
      "metadata": {
        "id": "bybzZQ4QBDqU"
      },
      "outputs": [],
      "source": [
        "import numpy as np"
      ]
    },
    {
      "cell_type": "code",
      "execution_count": null,
      "metadata": {
        "id": "ngHXPAaAAWss"
      },
      "outputs": [],
      "source": [
        "lista_de_listas=[[1,2,3],[4,5,6], [7,8,9]]"
      ]
    },
    {
      "cell_type": "code",
      "execution_count": null,
      "metadata": {
        "colab": {
          "base_uri": "https://localhost:8080/"
        },
        "id": "cZnHGqYxA_mE",
        "outputId": "cef3d202-ed63-44bd-9fd1-77378382c3a2"
      },
      "outputs": [
        {
          "output_type": "execute_result",
          "data": {
            "text/plain": [
              "[[1, 2, 3], [4, 5, 6], [7, 8, 9]]"
            ]
          },
          "metadata": {},
          "execution_count": 33
        }
      ],
      "source": [
        "lista_de_listas"
      ]
    },
    {
      "cell_type": "code",
      "execution_count": null,
      "metadata": {
        "id": "A87NM6-YBBHR"
      },
      "outputs": [],
      "source": [
        "matriz=np.array(lista_de_listas)"
      ]
    },
    {
      "cell_type": "code",
      "execution_count": null,
      "metadata": {
        "colab": {
          "base_uri": "https://localhost:8080/"
        },
        "id": "0JArWaV8BCqj",
        "outputId": "358a2581-1da4-4424-ac37-6aed72a6521e"
      },
      "outputs": [
        {
          "output_type": "stream",
          "name": "stdout",
          "text": [
            "[[1 2 3]\n",
            " [4 5 6]\n",
            " [7 8 9]]\n"
          ]
        },
        {
          "output_type": "execute_result",
          "data": {
            "text/plain": [
              "2"
            ]
          },
          "metadata": {},
          "execution_count": 35
        }
      ],
      "source": [
        "print(matriz)\n",
        "matriz[0][1]"
      ]
    },
    {
      "cell_type": "code",
      "execution_count": null,
      "metadata": {
        "colab": {
          "base_uri": "https://localhost:8080/"
        },
        "id": "OA3blAuzBbeB",
        "outputId": "b4cc81e6-f4fc-4cc8-fa94-60a59771b3da"
      },
      "outputs": [
        {
          "output_type": "execute_result",
          "data": {
            "text/plain": [
              "3"
            ]
          },
          "metadata": {},
          "execution_count": 36
        }
      ],
      "source": [
        "matriz.shape[0]"
      ]
    },
    {
      "cell_type": "code",
      "execution_count": null,
      "metadata": {
        "id": "5I94aPRJBKgF"
      },
      "outputs": [],
      "source": [
        "def traza_matriz(M):\n",
        "  n=M.shape[0]\n",
        "  traza=0\n",
        "  for i in range(n):\n",
        "    traza+= M[i][i]\n",
        "  return traza"
      ]
    },
    {
      "cell_type": "code",
      "execution_count": null,
      "metadata": {
        "colab": {
          "base_uri": "https://localhost:8080/"
        },
        "id": "8Yu_V50HBZZy",
        "outputId": "0d7cfd12-e3bb-47f3-a7f3-4581747ef5e9"
      },
      "outputs": [
        {
          "output_type": "execute_result",
          "data": {
            "text/plain": [
              "15"
            ]
          },
          "metadata": {},
          "execution_count": 38
        }
      ],
      "source": [
        "traza_matriz(M = matriz)"
      ]
    },
    {
      "cell_type": "code",
      "execution_count": null,
      "metadata": {
        "id": "A_T0D5VLB_Ty"
      },
      "outputs": [],
      "source": [
        "def determinante_2x2(M):\n",
        "  n=M.shape[0]\n",
        "  a=M[0][0]\n",
        "  b=M[0][1]\n",
        "  c=M[1][0]\n",
        "  d=M[1][1]\n",
        "  return  a*d-c*b"
      ]
    },
    {
      "cell_type": "code",
      "execution_count": null,
      "metadata": {
        "id": "8IQWVcDxDHXE"
      },
      "outputs": [],
      "source": [
        "M_2=np.array([[1,2],[3,4]])"
      ]
    },
    {
      "cell_type": "code",
      "execution_count": null,
      "metadata": {
        "colab": {
          "base_uri": "https://localhost:8080/"
        },
        "id": "CwVqsBU4DNzT",
        "outputId": "b228c2b2-606f-4a6c-eed0-cbdddb769fe3"
      },
      "outputs": [
        {
          "output_type": "execute_result",
          "data": {
            "text/plain": [
              "-2"
            ]
          },
          "metadata": {},
          "execution_count": 41
        }
      ],
      "source": [
        "determinante_2x2(M_2)"
      ]
    },
    {
      "cell_type": "code",
      "execution_count": null,
      "metadata": {
        "id": "kM05-ZAyDWEm"
      },
      "outputs": [],
      "source": [
        "M= np.arange(1,13).reshape(3,4)"
      ]
    },
    {
      "cell_type": "code",
      "source": [
        "def ProductoCruz_3x3():\n",
        "  n=int(input('Dime cuantos elementos tiene el vector 1'))\n",
        "  m=int(input('Dime cuantos elementos tiene el vector 2'))\n",
        "  lista1=[]\n",
        "  lista2=[]\n",
        "  a=lista1[0][0]\n",
        "  b=lista1[0][1]\n",
        "  c=lista1[0][2]\n",
        "  d=lista2[1][0]\n",
        "  e=lista2[1][1]\n",
        "  f=lista2[1][2]\n",
        "  return  lista1, lista2, (b*f-c*e), -(af-cd), (ae-bd)\n",
        "\n"
      ],
      "metadata": {
        "colab": {
          "base_uri": "https://localhost:8080/",
          "height": 106
        },
        "id": "ci-p07NGH3GH",
        "outputId": "fa5b22e5-71b1-4bd4-89e3-59d218c84c56"
      },
      "execution_count": null,
      "outputs": [
        {
          "output_type": "error",
          "ename": "SyntaxError",
          "evalue": "incomplete input (<ipython-input-43-5744b341e728>, line 7)",
          "traceback": [
            "\u001b[0;36m  File \u001b[0;32m\"<ipython-input-43-5744b341e728>\"\u001b[0;36m, line \u001b[0;32m7\u001b[0m\n\u001b[0;31m    \u001b[0m\n\u001b[0m    ^\u001b[0m\n\u001b[0;31mSyntaxError\u001b[0m\u001b[0;31m:\u001b[0m incomplete input\n"
          ]
        }
      ]
    },
    {
      "cell_type": "code",
      "source": [],
      "metadata": {
        "id": "-fOqYXd_IAPW"
      },
      "execution_count": null,
      "outputs": []
    }
  ],
  "metadata": {
    "colab": {
      "provenance": []
    },
    "kernelspec": {
      "display_name": "Python 3",
      "name": "python3"
    },
    "language_info": {
      "name": "python"
    }
  },
  "nbformat": 4,
  "nbformat_minor": 0
}