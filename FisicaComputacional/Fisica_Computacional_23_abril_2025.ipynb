{
  "nbformat": 4,
  "nbformat_minor": 0,
  "metadata": {
    "colab": {
      "provenance": []
    },
    "kernelspec": {
      "name": "python3",
      "display_name": "Python 3"
    },
    "language_info": {
      "name": "python"
    }
  },
  "cells": [
    {
      "cell_type": "code",
      "source": [
        "import numpy as np\n",
        "import matplotlib.pyplot as plt\n",
        "\n",
        "# Parámetros iniciales\n",
        "R0 = 100e-6  # Radio inicial (m)\n",
        "P0 = 101325  # Presión ambiente (Pa)\n",
        "Pv = 100  # Presión de vapor del agua (Pa)\n",
        "rho = 1000  # Densidad del agua (kg/m^3)\n",
        "sigma = 0.072  # Tensión superficial del agua (N/m)\n",
        "viscosidad = 1e-3 #Viscosidad del agua (Pa s)\n",
        "\n",
        "\n",
        "# Condiciones iniciales\n",
        "t0 = 0  # Tiempo inicial (s)\n",
        "tf = 1e-3 #Tiempo final (s)\n",
        "dt = 1e-7  # Paso de tiempo (s)\n",
        "t = np.arange(t0,tf,dt)\n",
        "\n",
        "#Velocidad inicial\n",
        "V0 = 0\n",
        "\n",
        "# Presión inicial en la burbuja\n",
        "Pi = P0"
      ],
      "metadata": {
        "id": "0ijQdBgPxnZy"
      },
      "execution_count": null,
      "outputs": []
    },
    {
      "cell_type": "code",
      "source": [
        "import numpy as np\n",
        "\n",
        "# Constantes\n",
        "k_B = 1.380649e-23  # J/K\n",
        "c = 3e8  # m/s\n",
        "h = 6.626e-34  # J s\n",
        "hbar = h / (2 * np.pi)\n",
        "T = 1  # K\n",
        "\n",
        "# Función a integrar\n",
        "def integrand(x):\n",
        "    return x**3 / (np.exp(x) - 1)\n",
        "\n",
        "# Integración numérica\n",
        "x_values = np.linspace(0, 10, 1000) # Ajusta el rango y la resolución si es necesario\n",
        "integral_value = np.trapz(integrand(x_values), x_values)\n",
        "\n",
        "# Cálculo de W\n",
        "W = (k_B**4 * T**4) / (4 * np.pi**2 * c**2 * hbar**3) * integral_value\n",
        "\n",
        "# Valor teórico de la constante de Stefan-Boltzmann\n",
        "sigma_teorico = (2 * np.pi**5 / 15) * (k_B**4 / (c**2 * h**3))\n",
        "\n",
        "print(f\"W calculado numéricamente: {W}\")\n",
        "print(f\"Constante de Stefan-Boltzmann teórica: {sigma_teorico}\")\n",
        "print(f\"Diferencia porcentual: {abs((W - sigma_teorico) / sigma_teorico) * 100:.2f}%\")\n"
      ],
      "metadata": {
        "colab": {
          "base_uri": "https://localhost:8080/"
        },
        "id": "LPqLYg324l_a",
        "outputId": "1a1e602b-f33a-4841-c229-c127ca038d8f"
      },
      "execution_count": null,
      "outputs": [
        {
          "output_type": "stream",
          "name": "stdout",
          "text": [
            "W calculado numéricamente: nan\n",
            "Constante de Stefan-Boltzmann teórica: 5.6627113783014383e-08\n",
            "Diferencia porcentual: nan%\n"
          ]
        },
        {
          "output_type": "stream",
          "name": "stderr",
          "text": [
            "<ipython-input-24-63f55e4c7130>:12: RuntimeWarning: invalid value encountered in divide\n",
            "  return x**3 / (np.exp(x) - 1)\n",
            "<ipython-input-24-63f55e4c7130>:16: DeprecationWarning: `trapz` is deprecated. Use `trapezoid` instead, or one of the numerical integration functions in `scipy.integrate`.\n",
            "  integral_value = np.trapz(integrand(x_values), x_values)\n"
          ]
        }
      ]
    }
  ]
}