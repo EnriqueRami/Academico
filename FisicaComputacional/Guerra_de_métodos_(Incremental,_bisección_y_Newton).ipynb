{
  "nbformat": 4,
  "nbformat_minor": 0,
  "metadata": {
    "colab": {
      "provenance": []
    },
    "kernelspec": {
      "name": "python3",
      "display_name": "Python 3"
    },
    "language_info": {
      "name": "python"
    }
  },
  "cells": [
    {
      "cell_type": "code",
      "execution_count": null,
      "metadata": {
        "id": "JUO6_IgqzsR4"
      },
      "outputs": [],
      "source": [
        "#Nota: Intente para la funcion x**(1/3) el codigo para el metodo incremental y newton-raphson, ya que la funcion en un metodo itera al infinito y en el otro converge la derivada :(\n",
        "\n",
        "import math\n",
        "import time\n",
        "import pandas as pd\n",
        "import numpy as np\n",
        "\n",
        "def incremental(f, a, b, dx):\n",
        "\n",
        "    x0 = a\n",
        "    f0 = f(x0)\n",
        "    x1 = x0 + dx\n",
        "    f1 = f(x1)\n",
        "    contador = 0\n",
        "\n",
        "    while f0 * f1 > 0:\n",
        "        if x1 >= b:\n",
        "            return \"No se encontraron raíces en el intervalo dado\"\n",
        "\n",
        "        x0 = x1\n",
        "        f0 = f1\n",
        "        x1 = x0 + dx\n",
        "        f1 = f(x1)\n",
        "        contador += 1\n",
        "\n",
        "    return (x0, x1), contador"
      ]
    },
    {
      "cell_type": "code",
      "source": [
        "def biseccion(f,a,b,epsilon=1e-6):\n",
        "    x0=a\n",
        "    x1=b\n",
        "    n=0\n",
        "    while abs(x0-x1)>epsilon:\n",
        "        x2=(x0+x1)/2\n",
        "        if abs(f(x2)) < epsilon:\n",
        "            return x2, n\n",
        "        if f(x0)*f(x2)<0:\n",
        "            x1=x2\n",
        "        elif f(x1)*f(x2)<0:\n",
        "            x0=x2\n",
        "            n=n+1\n",
        "    return x1,n"
      ],
      "metadata": {
        "id": "DwYdSbQwz90A"
      },
      "execution_count": null,
      "outputs": []
    },
    {
      "cell_type": "code",
      "source": [
        "def new_rha(f,df,x0,epsilon=1e-6):\n",
        "  dx=1\n",
        "  contador=0\n",
        "  while dx>epsilon and contador <=1000:\n",
        "    x1=x0-(f(x0))/df(x0)\n",
        "    dx=abs(x0-x1)\n",
        "    x0=x1\n",
        "    contador=contador+1\n",
        "  return x1, contador"
      ],
      "metadata": {
        "id": "L9LlpNeS0A8j"
      },
      "execution_count": null,
      "outputs": []
    },
    {
      "cell_type": "code",
      "source": [
        "def f(x): return 2*x**2+5*x-3\n",
        "print(biseccion(f,-5,0,1e-6))"
      ],
      "metadata": {
        "colab": {
          "base_uri": "https://localhost:8080/",
          "height": 159
        },
        "id": "2qx57Cre0F90",
        "outputId": "73d8465a-3b56-4f16-f1ca-827d11934643"
      },
      "execution_count": null,
      "outputs": [
        {
          "output_type": "error",
          "ename": "NameError",
          "evalue": "name 'biseccion' is not defined",
          "traceback": [
            "\u001b[0;31m---------------------------------------------------------------------------\u001b[0m",
            "\u001b[0;31mNameError\u001b[0m                                 Traceback (most recent call last)",
            "\u001b[0;32m<ipython-input-1-a9bfe67bf851>\u001b[0m in \u001b[0;36m<cell line: 0>\u001b[0;34m()\u001b[0m\n\u001b[1;32m      1\u001b[0m \u001b[0;32mdef\u001b[0m \u001b[0mf\u001b[0m\u001b[0;34m(\u001b[0m\u001b[0mx\u001b[0m\u001b[0;34m)\u001b[0m\u001b[0;34m:\u001b[0m \u001b[0;32mreturn\u001b[0m \u001b[0;36m2\u001b[0m\u001b[0;34m*\u001b[0m\u001b[0mx\u001b[0m\u001b[0;34m**\u001b[0m\u001b[0;36m2\u001b[0m\u001b[0;34m+\u001b[0m\u001b[0;36m5\u001b[0m\u001b[0;34m*\u001b[0m\u001b[0mx\u001b[0m\u001b[0;34m-\u001b[0m\u001b[0;36m3\u001b[0m\u001b[0;34m\u001b[0m\u001b[0;34m\u001b[0m\u001b[0m\n\u001b[0;32m----> 2\u001b[0;31m \u001b[0mprint\u001b[0m\u001b[0;34m(\u001b[0m\u001b[0mbiseccion\u001b[0m\u001b[0;34m(\u001b[0m\u001b[0mf\u001b[0m\u001b[0;34m,\u001b[0m\u001b[0;34m-\u001b[0m\u001b[0;36m5\u001b[0m\u001b[0;34m,\u001b[0m\u001b[0;36m0\u001b[0m\u001b[0;34m,\u001b[0m\u001b[0;36m1e-6\u001b[0m\u001b[0;34m)\u001b[0m\u001b[0;34m)\u001b[0m\u001b[0;34m\u001b[0m\u001b[0;34m\u001b[0m\u001b[0m\n\u001b[0m",
            "\u001b[0;31mNameError\u001b[0m: name 'biseccion' is not defined"
          ]
        }
      ]
    },
    {
      "cell_type": "code",
      "source": [
        "f= lambda x: 2*x**2+5*x-3\n",
        "df= lambda x: 4*x+5\n",
        "print(new_rha(f,df,-6,1e-10))"
      ],
      "metadata": {
        "colab": {
          "base_uri": "https://localhost:8080/"
        },
        "id": "Py1Kenu50JkC",
        "outputId": "f5abef58-1ec3-476d-a292-6d81e02abc22"
      },
      "execution_count": null,
      "outputs": [
        {
          "output_type": "stream",
          "name": "stdout",
          "text": [
            "(-2.9999999999999996, 6)\n"
          ]
        }
      ]
    },
    {
      "cell_type": "code",
      "source": [
        "f= lambda x: 2*x**2+5*x-3\n",
        "print(incremental(f,-5,0,1e-6))"
      ],
      "metadata": {
        "colab": {
          "base_uri": "https://localhost:8080/"
        },
        "id": "X5YcFQHR0MBE",
        "outputId": "e3ad0283-d9f1-4745-9abd-20281f6a5fb2"
      },
      "execution_count": null,
      "outputs": [
        {
          "output_type": "stream",
          "name": "stdout",
          "text": [
            "((-3.000000999720444, -2.999999999720444), 1999999)\n"
          ]
        }
      ]
    },
    {
      "cell_type": "code",
      "source": [
        "def h(x): return (x - 2) ** 2 - math.log(x)\n",
        "print(biseccion(h,1,3,1e-6))"
      ],
      "metadata": {
        "colab": {
          "base_uri": "https://localhost:8080/"
        },
        "id": "Qz5RQjuF0PgD",
        "outputId": "2584d0ed-32b6-4fa3-c795-722e884a907c"
      },
      "execution_count": null,
      "outputs": [
        {
          "output_type": "stream",
          "name": "stdout",
          "text": [
            "(1.4123916625976562, 7)\n"
          ]
        }
      ]
    },
    {
      "cell_type": "code",
      "source": [
        "h= lambda x: (x - 2) ** 2 - math.log(x)\n",
        "dh= lambda x: 2*(x - 2) - 1/x\n",
        "print(new_rha(h,dh,0.8,1e-10))"
      ],
      "metadata": {
        "colab": {
          "base_uri": "https://localhost:8080/"
        },
        "id": "VkdksacU0Tbe",
        "outputId": "ba89e74d-0e76-4ab1-9135-c3802c0c4711"
      },
      "execution_count": null,
      "outputs": [
        {
          "output_type": "stream",
          "name": "stdout",
          "text": [
            "(1.4123911720238846, 6)\n"
          ]
        }
      ]
    },
    {
      "cell_type": "code",
      "source": [
        "h= lambda x: (x - 2) ** 2 - math.log(x)\n",
        "print(incremental(h,1,3,0.1))"
      ],
      "metadata": {
        "colab": {
          "base_uri": "https://localhost:8080/"
        },
        "id": "R1qG9i-10en0",
        "outputId": "4c1964d1-6234-48ec-9441-7d4e6efa7094"
      },
      "execution_count": null,
      "outputs": [
        {
          "output_type": "stream",
          "name": "stdout",
          "text": [
            "((1.4000000000000004, 1.5000000000000004), 4)\n"
          ]
        }
      ]
    },
    {
      "cell_type": "code",
      "source": [
        "def g(x): return x**(1/3)\n",
        "print(biseccion(g,-1,1,1e-6))"
      ],
      "metadata": {
        "colab": {
          "base_uri": "https://localhost:8080/"
        },
        "id": "_7npq27c0hEF",
        "outputId": "321a16da-c044-4e4c-d2d1-758f23fadd48"
      },
      "execution_count": null,
      "outputs": [
        {
          "output_type": "stream",
          "name": "stdout",
          "text": [
            "(0.0, 0)\n"
          ]
        }
      ]
    },
    {
      "cell_type": "code",
      "source": [
        "g= lambda x: x**(1/3)\n",
        "dg= lambda x: 1/3*x**(-2/3)\n",
        "print(new_rha(g,dg,-1,1e-10))"
      ],
      "metadata": {
        "colab": {
          "base_uri": "https://localhost:8080/"
        },
        "id": "obAsnEab0kWV",
        "outputId": "e0600597-b268-4fd4-fecb-adc93419c81d"
      },
      "execution_count": null,
      "outputs": [
        {
          "output_type": "stream",
          "name": "stdout",
          "text": [
            "((2.143017214310881e+301-1.3189964010275533e+287j), 1001)\n"
          ]
        }
      ]
    },
    {
      "cell_type": "code",
      "source": [
        "g= lambda x: x**(1/3)\n",
        "print(incremental(g,-1,1,1e-6))"
      ],
      "metadata": {
        "colab": {
          "base_uri": "https://localhost:8080/",
          "height": 293
        },
        "id": "bsqE1-Q70tul",
        "outputId": "f77be9cd-5e51-42da-8d27-d1661d13c3bc"
      },
      "execution_count": null,
      "outputs": [
        {
          "output_type": "error",
          "ename": "TypeError",
          "evalue": "'>' not supported between instances of 'complex' and 'int'",
          "traceback": [
            "\u001b[0;31m---------------------------------------------------------------------------\u001b[0m",
            "\u001b[0;31mTypeError\u001b[0m                                 Traceback (most recent call last)",
            "\u001b[0;32m<ipython-input-12-6098fb04da19>\u001b[0m in \u001b[0;36m<cell line: 0>\u001b[0;34m()\u001b[0m\n\u001b[1;32m      1\u001b[0m \u001b[0mg\u001b[0m\u001b[0;34m=\u001b[0m \u001b[0;32mlambda\u001b[0m \u001b[0mx\u001b[0m\u001b[0;34m:\u001b[0m \u001b[0mx\u001b[0m\u001b[0;34m**\u001b[0m\u001b[0;34m(\u001b[0m\u001b[0;36m1\u001b[0m\u001b[0;34m/\u001b[0m\u001b[0;36m3\u001b[0m\u001b[0;34m)\u001b[0m\u001b[0;34m\u001b[0m\u001b[0;34m\u001b[0m\u001b[0m\n\u001b[0;32m----> 2\u001b[0;31m \u001b[0mprint\u001b[0m\u001b[0;34m(\u001b[0m\u001b[0mincremental\u001b[0m\u001b[0;34m(\u001b[0m\u001b[0mg\u001b[0m\u001b[0;34m,\u001b[0m\u001b[0;34m-\u001b[0m\u001b[0;36m1\u001b[0m\u001b[0;34m,\u001b[0m\u001b[0;36m1\u001b[0m\u001b[0;34m,\u001b[0m\u001b[0;36m1e-6\u001b[0m\u001b[0;34m)\u001b[0m\u001b[0;34m)\u001b[0m\u001b[0;34m\u001b[0m\u001b[0;34m\u001b[0m\u001b[0m\n\u001b[0m",
            "\u001b[0;32m<ipython-input-1-c931a308ab6e>\u001b[0m in \u001b[0;36mincremental\u001b[0;34m(f, a, b, dx)\u001b[0m\n\u001b[1;32m     12\u001b[0m     \u001b[0mcontador\u001b[0m \u001b[0;34m=\u001b[0m \u001b[0;36m0\u001b[0m\u001b[0;34m\u001b[0m\u001b[0;34m\u001b[0m\u001b[0m\n\u001b[1;32m     13\u001b[0m \u001b[0;34m\u001b[0m\u001b[0m\n\u001b[0;32m---> 14\u001b[0;31m     \u001b[0;32mwhile\u001b[0m \u001b[0mf0\u001b[0m \u001b[0;34m*\u001b[0m \u001b[0mf1\u001b[0m \u001b[0;34m>\u001b[0m \u001b[0;36m0\u001b[0m\u001b[0;34m:\u001b[0m\u001b[0;34m\u001b[0m\u001b[0;34m\u001b[0m\u001b[0m\n\u001b[0m\u001b[1;32m     15\u001b[0m         \u001b[0;32mif\u001b[0m \u001b[0mx1\u001b[0m \u001b[0;34m>=\u001b[0m \u001b[0mb\u001b[0m\u001b[0;34m:\u001b[0m\u001b[0;34m\u001b[0m\u001b[0;34m\u001b[0m\u001b[0m\n\u001b[1;32m     16\u001b[0m             \u001b[0;32mreturn\u001b[0m \u001b[0;34m\"No se encontraron raíces en el intervalo dado\"\u001b[0m\u001b[0;34m\u001b[0m\u001b[0;34m\u001b[0m\u001b[0m\n",
            "\u001b[0;31mTypeError\u001b[0m: '>' not supported between instances of 'complex' and 'int'"
          ]
        }
      ]
    },
    {
      "cell_type": "code",
      "source": [
        "%%time\n",
        "raiz_real_f=-3\n",
        "intervalo_raiz_f, pasos_incremental_f = incremental(f, -5, 0, 1e-6)\n",
        "raiz_incremental_f = intervalo_raiz_f[0]\n",
        "error_inc_f = 100*np.abs(raiz_real_f - raiz_incremental_f) / raiz_real_f"
      ],
      "metadata": {
        "colab": {
          "base_uri": "https://localhost:8080/"
        },
        "id": "OAdZUZQl3rfx",
        "outputId": "a322f832-c1d6-4993-db94-6bd8404f0dd7"
      },
      "execution_count": null,
      "outputs": [
        {
          "output_type": "stream",
          "name": "stdout",
          "text": [
            "CPU times: user 798 ms, sys: 0 ns, total: 798 ms\n",
            "Wall time: 825 ms\n"
          ]
        }
      ]
    },
    {
      "cell_type": "code",
      "source": [
        "%%time\n",
        "raiz_real_h = 1.41239129\n",
        "intervalo_raiz_h, pasos_incremental_h = incremental(h, 1, 3, 0.1)\n",
        "raiz_incremental_h = intervalo_raiz_h[0]\n",
        "error_inc_h = 100*np.abs(raiz_real_h - raiz_incremental_h) / raiz_real_h"
      ],
      "metadata": {
        "colab": {
          "base_uri": "https://localhost:8080/"
        },
        "id": "DtkI7y0M3zAA",
        "outputId": "1030c64c-840a-4e29-b643-734ccc6c160c"
      },
      "execution_count": null,
      "outputs": [
        {
          "output_type": "stream",
          "name": "stdout",
          "text": [
            "CPU times: user 104 µs, sys: 0 ns, total: 104 µs\n",
            "Wall time: 108 µs\n"
          ]
        }
      ]
    },
    {
      "cell_type": "code",
      "source": [
        "%%time\n",
        "raiz_real_g=0\n",
        "intervalo_raiz_g, pasos_incremental_g = incremental(g, -1, 1, 1e-6)\n",
        "raiz_incremental_g = intervalo_raiz_g[0]\n",
        "error_inc_g = 100*np.abs(raiz_real_g - raiz_incremental_g) / raiz_real_g"
      ],
      "metadata": {
        "colab": {
          "base_uri": "https://localhost:8080/",
          "height": 256
        },
        "id": "dzALGBLY3wUf",
        "outputId": "466013ff-77e5-4811-ef75-bb9dd6342e8a"
      },
      "execution_count": null,
      "outputs": [
        {
          "output_type": "error",
          "ename": "TypeError",
          "evalue": "'>' not supported between instances of 'complex' and 'int'",
          "traceback": [
            "\u001b[0;31m---------------------------------------------------------------------------\u001b[0m",
            "\u001b[0;31mTypeError\u001b[0m                                 Traceback (most recent call last)",
            "\u001b[0;32m<timed exec>\u001b[0m in \u001b[0;36m<module>\u001b[0;34m\u001b[0m\n",
            "\u001b[0;32m<ipython-input-1-c931a308ab6e>\u001b[0m in \u001b[0;36mincremental\u001b[0;34m(f, a, b, dx)\u001b[0m\n\u001b[1;32m     12\u001b[0m     \u001b[0mcontador\u001b[0m \u001b[0;34m=\u001b[0m \u001b[0;36m0\u001b[0m\u001b[0;34m\u001b[0m\u001b[0;34m\u001b[0m\u001b[0m\n\u001b[1;32m     13\u001b[0m \u001b[0;34m\u001b[0m\u001b[0m\n\u001b[0;32m---> 14\u001b[0;31m     \u001b[0;32mwhile\u001b[0m \u001b[0mf0\u001b[0m \u001b[0;34m*\u001b[0m \u001b[0mf1\u001b[0m \u001b[0;34m>\u001b[0m \u001b[0;36m0\u001b[0m\u001b[0;34m:\u001b[0m\u001b[0;34m\u001b[0m\u001b[0;34m\u001b[0m\u001b[0m\n\u001b[0m\u001b[1;32m     15\u001b[0m         \u001b[0;32mif\u001b[0m \u001b[0mx1\u001b[0m \u001b[0;34m>=\u001b[0m \u001b[0mb\u001b[0m\u001b[0;34m:\u001b[0m\u001b[0;34m\u001b[0m\u001b[0;34m\u001b[0m\u001b[0m\n\u001b[1;32m     16\u001b[0m             \u001b[0;32mreturn\u001b[0m \u001b[0;34m\"No se encontraron raíces en el intervalo dado\"\u001b[0m\u001b[0;34m\u001b[0m\u001b[0;34m\u001b[0m\u001b[0m\n",
            "\u001b[0;31mTypeError\u001b[0m: '>' not supported between instances of 'complex' and 'int'"
          ]
        }
      ]
    },
    {
      "cell_type": "code",
      "source": [
        "%%time\n",
        "raiz_real_f=-3\n",
        "raiz_biseccion_f, pasos_biseccion_f = biseccion(f, -5, 0, 1e-6)\n",
        "error_bis_f = 100*np.abs(raiz_real_f - raiz_biseccion_f) / raiz_real_f"
      ],
      "metadata": {
        "colab": {
          "base_uri": "https://localhost:8080/"
        },
        "id": "4X0P7d4F33PA",
        "outputId": "623c8d1e-d5aa-4a38-d370-860ed875fc87"
      },
      "execution_count": null,
      "outputs": [
        {
          "output_type": "stream",
          "name": "stdout",
          "text": [
            "CPU times: user 108 µs, sys: 0 ns, total: 108 µs\n",
            "Wall time: 113 µs\n"
          ]
        }
      ]
    },
    {
      "cell_type": "code",
      "source": [
        "%%time\n",
        "raiz_real_h = 1.41239129\n",
        "raiz_biseccion_h, pasos_biseccion_h = biseccion(h, 1, 3, 1e-6)\n",
        "error_bis_h = 100*np.abs(raiz_real_h - raiz_biseccion_h) / raiz_real_h"
      ],
      "metadata": {
        "colab": {
          "base_uri": "https://localhost:8080/"
        },
        "id": "X8mOyQnj36DQ",
        "outputId": "9e6acd68-98c7-4599-b28d-6eb3ea66417f"
      },
      "execution_count": null,
      "outputs": [
        {
          "output_type": "stream",
          "name": "stdout",
          "text": [
            "CPU times: user 75 µs, sys: 0 ns, total: 75 µs\n",
            "Wall time: 79.9 µs\n"
          ]
        }
      ]
    },
    {
      "cell_type": "code",
      "source": [
        "%%time\n",
        "raiz_real_g=0\n",
        "raiz_biseccion_g, pasos_biseccion_g = biseccion(g, -1, 1, 1e-6)\n",
        "error_bis_g = 100*np.abs(raiz_real_g - raiz_biseccion_g) / raiz_real_g"
      ],
      "metadata": {
        "colab": {
          "base_uri": "https://localhost:8080/"
        },
        "id": "shDA-Yqf3875",
        "outputId": "144fec8e-bd38-4c39-a22e-a6be556dc3ee"
      },
      "execution_count": null,
      "outputs": [
        {
          "output_type": "stream",
          "name": "stdout",
          "text": [
            "CPU times: user 201 µs, sys: 0 ns, total: 201 µs\n",
            "Wall time: 207 µs\n"
          ]
        },
        {
          "output_type": "stream",
          "name": "stderr",
          "text": [
            "<timed exec>:3: RuntimeWarning: invalid value encountered in scalar divide\n"
          ]
        }
      ]
    },
    {
      "cell_type": "code",
      "source": [
        "%time\n",
        "raiz_real_f=-3\n",
        "raiz_new_rha_f, pasos_new_rha_f = new_rha(f, df,-5,1e-10)\n",
        "error_new_rha_f = 100*np.abs(raiz_real_f - raiz_new_rha_f) / raiz_real_f"
      ],
      "metadata": {
        "colab": {
          "base_uri": "https://localhost:8080/"
        },
        "id": "Mib_PMLM3_Ew",
        "outputId": "04e6f01b-7a33-43d3-d510-fd9c3d1fd1c5"
      },
      "execution_count": null,
      "outputs": [
        {
          "output_type": "stream",
          "name": "stdout",
          "text": [
            "CPU times: user 2 µs, sys: 1 µs, total: 3 µs\n",
            "Wall time: 5.96 µs\n"
          ]
        }
      ]
    },
    {
      "cell_type": "code",
      "source": [
        "%%time\n",
        "raiz_real_h = 1.41239129\n",
        "raiz_new_rha_h, pasos_new_rha_h = new_rha(h, dh, 0.8,1e-10)\n",
        "error_new_rha_h = 100*np.abs(raiz_real_h - raiz_new_rha_h) / raiz_real_h"
      ],
      "metadata": {
        "colab": {
          "base_uri": "https://localhost:8080/"
        },
        "id": "5TgEnSgH4CBY",
        "outputId": "afec8d20-a243-4405-8504-3383a935c692"
      },
      "execution_count": null,
      "outputs": [
        {
          "output_type": "stream",
          "name": "stdout",
          "text": [
            "CPU times: user 63 µs, sys: 0 ns, total: 63 µs\n",
            "Wall time: 67.5 µs\n"
          ]
        }
      ]
    },
    {
      "cell_type": "code",
      "source": [
        "%%time\n",
        "raiz_real_g=0\n",
        "raiz_new_rha_g, pasos_new_rha_g = new_rha(g, dg, -1,1e-10)\n",
        "error_new_rha_g = 100*np.abs(raiz_real_g - raiz_new_rha_g) / raiz_real_g"
      ],
      "metadata": {
        "colab": {
          "base_uri": "https://localhost:8080/"
        },
        "id": "kjRBr1CX4DlB",
        "outputId": "65aaf120-2b64-461d-cd09-eb14078f749c"
      },
      "execution_count": null,
      "outputs": [
        {
          "output_type": "stream",
          "name": "stdout",
          "text": [
            "CPU times: user 952 µs, sys: 0 ns, total: 952 µs\n",
            "Wall time: 945 µs\n"
          ]
        },
        {
          "output_type": "stream",
          "name": "stderr",
          "text": [
            "<timed exec>:3: RuntimeWarning: divide by zero encountered in scalar divide\n"
          ]
        }
      ]
    },
    {
      "cell_type": "code",
      "source": [
        "lista_incremental_f = [raiz_incremental_f, pasos_incremental_f, error_inc_f, 798000]\n",
        "lista_biseccion_f = [raiz_biseccion_f, pasos_biseccion_f, error_bis_f, 108]\n",
        "lista_new_rha_f = [raiz_new_rha_f, pasos_new_rha_f, error_new_rha_f, 3]\n",
        "lista_incremental_h = [raiz_incremental_h, pasos_incremental_h, error_inc_h, 108]\n",
        "lista_biseccion_h = [raiz_biseccion_h, pasos_biseccion_h, error_bis_h, 3]\n",
        "lista_new_rha_h = [raiz_new_rha_h, pasos_new_rha_h, error_new_rha_h, 63]\n",
        "lista_biseccion_g = [raiz_biseccion_g, pasos_biseccion_g, error_bis_g, 952]"
      ],
      "metadata": {
        "id": "WMPFSMIg4GbD"
      },
      "execution_count": null,
      "outputs": []
    },
    {
      "cell_type": "code",
      "source": [
        "print('f(x)=2*x**2+5*x-3 y tiene raiz en x=-3')\n",
        "print('h(x)=(x-2)**2-ln(x) y tiene raiz en x=1.41239129')\n",
        "print('g(x)=x**(1/3) y tiene raiz en x=0')\n",
        "\n",
        "datos=pd.DataFrame([lista_incremental_f,lista_biseccion_f, lista_new_rha_f, lista_incremental_h, lista_biseccion_h, lista_new_rha_h, lista_biseccion_g], index= ['Búsqueda incremental para f(x)', 'Bisección para f(x)', 'Newton Raphson para f(x)', 'Búsqueda incremental para h(x)', 'Bisección para h(x)', 'Newton Raphson para h(x)', 'Bisección para g(x)'], columns=['Raíz', 'Pasos', 'Error', 'Tiempo (Microsegundos)'])\n",
        "datos"
      ],
      "metadata": {
        "colab": {
          "base_uri": "https://localhost:8080/",
          "height": 323
        },
        "id": "Pn23arJp4Neh",
        "outputId": "8a8a604b-d47c-42f8-c0fe-f2aa643457e3"
      },
      "execution_count": null,
      "outputs": [
        {
          "output_type": "stream",
          "name": "stdout",
          "text": [
            "f(x)=2*x**2+5*x-3 y tiene raiz en x=-3\n",
            "h(x)=(x-2)**2-ln(x) y tiene raiz en x=1.41239129\n",
            "g(x)=x**(1/3) y tiene raiz en x=0\n"
          ]
        },
        {
          "output_type": "execute_result",
          "data": {
            "text/plain": [
              "                                    Raíz    Pasos         Error  \\\n",
              "Búsqueda incremental para f(x) -3.000001  1999999 -3.332401e-05   \n",
              "Bisección para f(x)            -3.000000       11 -3.973643e-06   \n",
              "Newton Raphson para f(x)       -3.000000        6 -1.480297e-14   \n",
              "Búsqueda incremental para h(x)  1.400000        4  8.773270e-01   \n",
              "Bisección para h(x)             1.412392        7  2.638063e-05   \n",
              "Newton Raphson para h(x)        1.412391        6  8.352934e-06   \n",
              "Bisección para g(x)             0.000000        0           NaN   \n",
              "\n",
              "                                Tiempo (Microsegundos)  \n",
              "Búsqueda incremental para f(x)                  798000  \n",
              "Bisección para f(x)                                108  \n",
              "Newton Raphson para f(x)                             3  \n",
              "Búsqueda incremental para h(x)                     108  \n",
              "Bisección para h(x)                                  3  \n",
              "Newton Raphson para h(x)                            63  \n",
              "Bisección para g(x)                                952  "
            ],
            "text/html": [
              "\n",
              "  <div id=\"df-1d4184ac-f510-4abe-a606-5ac76358509c\" class=\"colab-df-container\">\n",
              "    <div>\n",
              "<style scoped>\n",
              "    .dataframe tbody tr th:only-of-type {\n",
              "        vertical-align: middle;\n",
              "    }\n",
              "\n",
              "    .dataframe tbody tr th {\n",
              "        vertical-align: top;\n",
              "    }\n",
              "\n",
              "    .dataframe thead th {\n",
              "        text-align: right;\n",
              "    }\n",
              "</style>\n",
              "<table border=\"1\" class=\"dataframe\">\n",
              "  <thead>\n",
              "    <tr style=\"text-align: right;\">\n",
              "      <th></th>\n",
              "      <th>Raíz</th>\n",
              "      <th>Pasos</th>\n",
              "      <th>Error</th>\n",
              "      <th>Tiempo (Microsegundos)</th>\n",
              "    </tr>\n",
              "  </thead>\n",
              "  <tbody>\n",
              "    <tr>\n",
              "      <th>Búsqueda incremental para f(x)</th>\n",
              "      <td>-3.000001</td>\n",
              "      <td>1999999</td>\n",
              "      <td>-3.332401e-05</td>\n",
              "      <td>798000</td>\n",
              "    </tr>\n",
              "    <tr>\n",
              "      <th>Bisección para f(x)</th>\n",
              "      <td>-3.000000</td>\n",
              "      <td>11</td>\n",
              "      <td>-3.973643e-06</td>\n",
              "      <td>108</td>\n",
              "    </tr>\n",
              "    <tr>\n",
              "      <th>Newton Raphson para f(x)</th>\n",
              "      <td>-3.000000</td>\n",
              "      <td>6</td>\n",
              "      <td>-1.480297e-14</td>\n",
              "      <td>3</td>\n",
              "    </tr>\n",
              "    <tr>\n",
              "      <th>Búsqueda incremental para h(x)</th>\n",
              "      <td>1.400000</td>\n",
              "      <td>4</td>\n",
              "      <td>8.773270e-01</td>\n",
              "      <td>108</td>\n",
              "    </tr>\n",
              "    <tr>\n",
              "      <th>Bisección para h(x)</th>\n",
              "      <td>1.412392</td>\n",
              "      <td>7</td>\n",
              "      <td>2.638063e-05</td>\n",
              "      <td>3</td>\n",
              "    </tr>\n",
              "    <tr>\n",
              "      <th>Newton Raphson para h(x)</th>\n",
              "      <td>1.412391</td>\n",
              "      <td>6</td>\n",
              "      <td>8.352934e-06</td>\n",
              "      <td>63</td>\n",
              "    </tr>\n",
              "    <tr>\n",
              "      <th>Bisección para g(x)</th>\n",
              "      <td>0.000000</td>\n",
              "      <td>0</td>\n",
              "      <td>NaN</td>\n",
              "      <td>952</td>\n",
              "    </tr>\n",
              "  </tbody>\n",
              "</table>\n",
              "</div>\n",
              "    <div class=\"colab-df-buttons\">\n",
              "\n",
              "  <div class=\"colab-df-container\">\n",
              "    <button class=\"colab-df-convert\" onclick=\"convertToInteractive('df-1d4184ac-f510-4abe-a606-5ac76358509c')\"\n",
              "            title=\"Convert this dataframe to an interactive table.\"\n",
              "            style=\"display:none;\">\n",
              "\n",
              "  <svg xmlns=\"http://www.w3.org/2000/svg\" height=\"24px\" viewBox=\"0 -960 960 960\">\n",
              "    <path d=\"M120-120v-720h720v720H120Zm60-500h600v-160H180v160Zm220 220h160v-160H400v160Zm0 220h160v-160H400v160ZM180-400h160v-160H180v160Zm440 0h160v-160H620v160ZM180-180h160v-160H180v160Zm440 0h160v-160H620v160Z\"/>\n",
              "  </svg>\n",
              "    </button>\n",
              "\n",
              "  <style>\n",
              "    .colab-df-container {\n",
              "      display:flex;\n",
              "      gap: 12px;\n",
              "    }\n",
              "\n",
              "    .colab-df-convert {\n",
              "      background-color: #E8F0FE;\n",
              "      border: none;\n",
              "      border-radius: 50%;\n",
              "      cursor: pointer;\n",
              "      display: none;\n",
              "      fill: #1967D2;\n",
              "      height: 32px;\n",
              "      padding: 0 0 0 0;\n",
              "      width: 32px;\n",
              "    }\n",
              "\n",
              "    .colab-df-convert:hover {\n",
              "      background-color: #E2EBFA;\n",
              "      box-shadow: 0px 1px 2px rgba(60, 64, 67, 0.3), 0px 1px 3px 1px rgba(60, 64, 67, 0.15);\n",
              "      fill: #174EA6;\n",
              "    }\n",
              "\n",
              "    .colab-df-buttons div {\n",
              "      margin-bottom: 4px;\n",
              "    }\n",
              "\n",
              "    [theme=dark] .colab-df-convert {\n",
              "      background-color: #3B4455;\n",
              "      fill: #D2E3FC;\n",
              "    }\n",
              "\n",
              "    [theme=dark] .colab-df-convert:hover {\n",
              "      background-color: #434B5C;\n",
              "      box-shadow: 0px 1px 3px 1px rgba(0, 0, 0, 0.15);\n",
              "      filter: drop-shadow(0px 1px 2px rgba(0, 0, 0, 0.3));\n",
              "      fill: #FFFFFF;\n",
              "    }\n",
              "  </style>\n",
              "\n",
              "    <script>\n",
              "      const buttonEl =\n",
              "        document.querySelector('#df-1d4184ac-f510-4abe-a606-5ac76358509c button.colab-df-convert');\n",
              "      buttonEl.style.display =\n",
              "        google.colab.kernel.accessAllowed ? 'block' : 'none';\n",
              "\n",
              "      async function convertToInteractive(key) {\n",
              "        const element = document.querySelector('#df-1d4184ac-f510-4abe-a606-5ac76358509c');\n",
              "        const dataTable =\n",
              "          await google.colab.kernel.invokeFunction('convertToInteractive',\n",
              "                                                    [key], {});\n",
              "        if (!dataTable) return;\n",
              "\n",
              "        const docLinkHtml = 'Like what you see? Visit the ' +\n",
              "          '<a target=\"_blank\" href=https://colab.research.google.com/notebooks/data_table.ipynb>data table notebook</a>'\n",
              "          + ' to learn more about interactive tables.';\n",
              "        element.innerHTML = '';\n",
              "        dataTable['output_type'] = 'display_data';\n",
              "        await google.colab.output.renderOutput(dataTable, element);\n",
              "        const docLink = document.createElement('div');\n",
              "        docLink.innerHTML = docLinkHtml;\n",
              "        element.appendChild(docLink);\n",
              "      }\n",
              "    </script>\n",
              "  </div>\n",
              "\n",
              "\n",
              "<div id=\"df-58139487-9d50-408a-b4e1-423a9347179d\">\n",
              "  <button class=\"colab-df-quickchart\" onclick=\"quickchart('df-58139487-9d50-408a-b4e1-423a9347179d')\"\n",
              "            title=\"Suggest charts\"\n",
              "            style=\"display:none;\">\n",
              "\n",
              "<svg xmlns=\"http://www.w3.org/2000/svg\" height=\"24px\"viewBox=\"0 0 24 24\"\n",
              "     width=\"24px\">\n",
              "    <g>\n",
              "        <path d=\"M19 3H5c-1.1 0-2 .9-2 2v14c0 1.1.9 2 2 2h14c1.1 0 2-.9 2-2V5c0-1.1-.9-2-2-2zM9 17H7v-7h2v7zm4 0h-2V7h2v10zm4 0h-2v-4h2v4z\"/>\n",
              "    </g>\n",
              "</svg>\n",
              "  </button>\n",
              "\n",
              "<style>\n",
              "  .colab-df-quickchart {\n",
              "      --bg-color: #E8F0FE;\n",
              "      --fill-color: #1967D2;\n",
              "      --hover-bg-color: #E2EBFA;\n",
              "      --hover-fill-color: #174EA6;\n",
              "      --disabled-fill-color: #AAA;\n",
              "      --disabled-bg-color: #DDD;\n",
              "  }\n",
              "\n",
              "  [theme=dark] .colab-df-quickchart {\n",
              "      --bg-color: #3B4455;\n",
              "      --fill-color: #D2E3FC;\n",
              "      --hover-bg-color: #434B5C;\n",
              "      --hover-fill-color: #FFFFFF;\n",
              "      --disabled-bg-color: #3B4455;\n",
              "      --disabled-fill-color: #666;\n",
              "  }\n",
              "\n",
              "  .colab-df-quickchart {\n",
              "    background-color: var(--bg-color);\n",
              "    border: none;\n",
              "    border-radius: 50%;\n",
              "    cursor: pointer;\n",
              "    display: none;\n",
              "    fill: var(--fill-color);\n",
              "    height: 32px;\n",
              "    padding: 0;\n",
              "    width: 32px;\n",
              "  }\n",
              "\n",
              "  .colab-df-quickchart:hover {\n",
              "    background-color: var(--hover-bg-color);\n",
              "    box-shadow: 0 1px 2px rgba(60, 64, 67, 0.3), 0 1px 3px 1px rgba(60, 64, 67, 0.15);\n",
              "    fill: var(--button-hover-fill-color);\n",
              "  }\n",
              "\n",
              "  .colab-df-quickchart-complete:disabled,\n",
              "  .colab-df-quickchart-complete:disabled:hover {\n",
              "    background-color: var(--disabled-bg-color);\n",
              "    fill: var(--disabled-fill-color);\n",
              "    box-shadow: none;\n",
              "  }\n",
              "\n",
              "  .colab-df-spinner {\n",
              "    border: 2px solid var(--fill-color);\n",
              "    border-color: transparent;\n",
              "    border-bottom-color: var(--fill-color);\n",
              "    animation:\n",
              "      spin 1s steps(1) infinite;\n",
              "  }\n",
              "\n",
              "  @keyframes spin {\n",
              "    0% {\n",
              "      border-color: transparent;\n",
              "      border-bottom-color: var(--fill-color);\n",
              "      border-left-color: var(--fill-color);\n",
              "    }\n",
              "    20% {\n",
              "      border-color: transparent;\n",
              "      border-left-color: var(--fill-color);\n",
              "      border-top-color: var(--fill-color);\n",
              "    }\n",
              "    30% {\n",
              "      border-color: transparent;\n",
              "      border-left-color: var(--fill-color);\n",
              "      border-top-color: var(--fill-color);\n",
              "      border-right-color: var(--fill-color);\n",
              "    }\n",
              "    40% {\n",
              "      border-color: transparent;\n",
              "      border-right-color: var(--fill-color);\n",
              "      border-top-color: var(--fill-color);\n",
              "    }\n",
              "    60% {\n",
              "      border-color: transparent;\n",
              "      border-right-color: var(--fill-color);\n",
              "    }\n",
              "    80% {\n",
              "      border-color: transparent;\n",
              "      border-right-color: var(--fill-color);\n",
              "      border-bottom-color: var(--fill-color);\n",
              "    }\n",
              "    90% {\n",
              "      border-color: transparent;\n",
              "      border-bottom-color: var(--fill-color);\n",
              "    }\n",
              "  }\n",
              "</style>\n",
              "\n",
              "  <script>\n",
              "    async function quickchart(key) {\n",
              "      const quickchartButtonEl =\n",
              "        document.querySelector('#' + key + ' button');\n",
              "      quickchartButtonEl.disabled = true;  // To prevent multiple clicks.\n",
              "      quickchartButtonEl.classList.add('colab-df-spinner');\n",
              "      try {\n",
              "        const charts = await google.colab.kernel.invokeFunction(\n",
              "            'suggestCharts', [key], {});\n",
              "      } catch (error) {\n",
              "        console.error('Error during call to suggestCharts:', error);\n",
              "      }\n",
              "      quickchartButtonEl.classList.remove('colab-df-spinner');\n",
              "      quickchartButtonEl.classList.add('colab-df-quickchart-complete');\n",
              "    }\n",
              "    (() => {\n",
              "      let quickchartButtonEl =\n",
              "        document.querySelector('#df-58139487-9d50-408a-b4e1-423a9347179d button');\n",
              "      quickchartButtonEl.style.display =\n",
              "        google.colab.kernel.accessAllowed ? 'block' : 'none';\n",
              "    })();\n",
              "  </script>\n",
              "</div>\n",
              "\n",
              "  <div id=\"id_212359df-9983-4ea6-b978-67b04433f233\">\n",
              "    <style>\n",
              "      .colab-df-generate {\n",
              "        background-color: #E8F0FE;\n",
              "        border: none;\n",
              "        border-radius: 50%;\n",
              "        cursor: pointer;\n",
              "        display: none;\n",
              "        fill: #1967D2;\n",
              "        height: 32px;\n",
              "        padding: 0 0 0 0;\n",
              "        width: 32px;\n",
              "      }\n",
              "\n",
              "      .colab-df-generate:hover {\n",
              "        background-color: #E2EBFA;\n",
              "        box-shadow: 0px 1px 2px rgba(60, 64, 67, 0.3), 0px 1px 3px 1px rgba(60, 64, 67, 0.15);\n",
              "        fill: #174EA6;\n",
              "      }\n",
              "\n",
              "      [theme=dark] .colab-df-generate {\n",
              "        background-color: #3B4455;\n",
              "        fill: #D2E3FC;\n",
              "      }\n",
              "\n",
              "      [theme=dark] .colab-df-generate:hover {\n",
              "        background-color: #434B5C;\n",
              "        box-shadow: 0px 1px 3px 1px rgba(0, 0, 0, 0.15);\n",
              "        filter: drop-shadow(0px 1px 2px rgba(0, 0, 0, 0.3));\n",
              "        fill: #FFFFFF;\n",
              "      }\n",
              "    </style>\n",
              "    <button class=\"colab-df-generate\" onclick=\"generateWithVariable('datos')\"\n",
              "            title=\"Generate code using this dataframe.\"\n",
              "            style=\"display:none;\">\n",
              "\n",
              "  <svg xmlns=\"http://www.w3.org/2000/svg\" height=\"24px\"viewBox=\"0 0 24 24\"\n",
              "       width=\"24px\">\n",
              "    <path d=\"M7,19H8.4L18.45,9,17,7.55,7,17.6ZM5,21V16.75L18.45,3.32a2,2,0,0,1,2.83,0l1.4,1.43a1.91,1.91,0,0,1,.58,1.4,1.91,1.91,0,0,1-.58,1.4L9.25,21ZM18.45,9,17,7.55Zm-12,3A5.31,5.31,0,0,0,4.9,8.1,5.31,5.31,0,0,0,1,6.5,5.31,5.31,0,0,0,4.9,4.9,5.31,5.31,0,0,0,6.5,1,5.31,5.31,0,0,0,8.1,4.9,5.31,5.31,0,0,0,12,6.5,5.46,5.46,0,0,0,6.5,12Z\"/>\n",
              "  </svg>\n",
              "    </button>\n",
              "    <script>\n",
              "      (() => {\n",
              "      const buttonEl =\n",
              "        document.querySelector('#id_212359df-9983-4ea6-b978-67b04433f233 button.colab-df-generate');\n",
              "      buttonEl.style.display =\n",
              "        google.colab.kernel.accessAllowed ? 'block' : 'none';\n",
              "\n",
              "      buttonEl.onclick = () => {\n",
              "        google.colab.notebook.generateWithVariable('datos');\n",
              "      }\n",
              "      })();\n",
              "    </script>\n",
              "  </div>\n",
              "\n",
              "    </div>\n",
              "  </div>\n"
            ],
            "application/vnd.google.colaboratory.intrinsic+json": {
              "type": "dataframe",
              "variable_name": "datos",
              "summary": "{\n  \"name\": \"datos\",\n  \"rows\": 7,\n  \"fields\": [\n    {\n      \"column\": \"Ra\\u00edz\",\n      \"properties\": {\n        \"dtype\": \"number\",\n        \"std\": 2.2245664668701353,\n        \"min\": -3.000000999720444,\n        \"max\": 1.4123916625976562,\n        \"num_unique_values\": 7,\n        \"samples\": [\n          -3.000000999720444,\n          -3.0000001192092896,\n          1.4123911720238846\n        ],\n        \"semantic_type\": \"\",\n        \"description\": \"\"\n      }\n    },\n    {\n      \"column\": \"Pasos\",\n      \"properties\": {\n        \"dtype\": \"number\",\n        \"std\": 755926,\n        \"min\": 0,\n        \"max\": 1999999,\n        \"num_unique_values\": 6,\n        \"samples\": [\n          1999999,\n          11,\n          0\n        ],\n        \"semantic_type\": \"\",\n        \"description\": \"\"\n      }\n    },\n    {\n      \"column\": \"Error\",\n      \"properties\": {\n        \"dtype\": \"number\",\n        \"std\": 0.3581674539743072,\n        \"min\": -3.332401480686068e-05,\n        \"max\": 0.8773269905961832,\n        \"num_unique_values\": 6,\n        \"samples\": [\n          -3.332401480686068e-05,\n          -3.973642985026042e-06,\n          8.352934215657986e-06\n        ],\n        \"semantic_type\": \"\",\n        \"description\": \"\"\n      }\n    },\n    {\n      \"column\": \"Tiempo (Microsegundos)\",\n      \"properties\": {\n        \"dtype\": \"number\",\n        \"std\": 301537,\n        \"min\": 3,\n        \"max\": 798000,\n        \"num_unique_values\": 5,\n        \"samples\": [\n          108,\n          952,\n          3\n        ],\n        \"semantic_type\": \"\",\n        \"description\": \"\"\n      }\n    }\n  ]\n}"
            }
          },
          "metadata": {},
          "execution_count": 24
        }
      ]
    },
    {
      "cell_type": "code",
      "source": [],
      "metadata": {
        "id": "0BGl_9VK5YFW"
      },
      "execution_count": null,
      "outputs": []
    }
  ]
}